{
  "nbformat": 4,
  "nbformat_minor": 0,
  "metadata": {
    "colab": {
      "name": " DMSP Particle Precipitate Flux Prediction.ipynb",
      "provenance": [],
      "authorship_tag": "ABX9TyMO8utj7EiTm5v2nb9cG7fD",
      "include_colab_link": true
    },
    "kernelspec": {
      "name": "python3",
      "display_name": "Python 3"
    },
    "language_info": {
      "name": "python"
    },
    "accelerator": "GPU"
  },
  "cells": [
    {
      "cell_type": "markdown",
      "metadata": {
        "id": "view-in-github",
        "colab_type": "text"
      },
      "source": [
        "<a href=\"https://colab.research.google.com/github/plaban1981/TMLC/blob/main/DMSP_Particle_Precipitate_Flux_Prediction.ipynb\" target=\"_parent\"><img src=\"https://colab.research.google.com/assets/colab-badge.svg\" alt=\"Open In Colab\"/></a>"
      ]
    },
    {
      "cell_type": "markdown",
      "source": [
        "## Mount Google Drive in colab"
      ],
      "metadata": {
        "id": "WuAEQOhALG5I"
      }
    },
    {
      "cell_type": "code",
      "source": [
        "from google.colab import drive\n",
        "drive.mount(\"/content/drive\")"
      ],
      "metadata": {
        "id": "UHCjK5H_E5Jn",
        "colab": {
          "base_uri": "https://localhost:8080/"
        },
        "outputId": "6a81ac9e-63b6-4fcf-a70b-d6025dfa962a"
      },
      "execution_count": 1,
      "outputs": [
        {
          "output_type": "stream",
          "name": "stdout",
          "text": [
            "Mounted at /content/drive\n"
          ]
        }
      ]
    },
    {
      "cell_type": "markdown",
      "source": [
        "##🧾Description: \n",
        "\n",
        "\n",
        "We advance the modeling capability of electron particle precipitation from the magnetosphere to the ionosphere through a new database and use of deep learning (DL) tools to gain utility from those data. We have compiled, curated, analyzed, and made available a new and more capable database of particle precipitation data that includes 51 satellite years of Defense Meteorological Satellite Program (DMSP) observations temporally aligned with solar wind and geomagnetic activity data. The new total electron energy flux particle precipitation nowcast model, a neural network called PrecipNet, takes advantage of increased expressive power afforded by ML approaches to appropriately utilize diverse information from the solar wind and geomagnetic activity and, importantly, their time histories. With a more capable representation of the organizing parameters and the target electron energy flux observations, PrecipNet achieves a >50% reduction in errors from a current state‐of‐the‐art model oval variation, assessment, tracking, intensity, and online nowcasting (OVATION Prime), better captures the dynamic changes of the auroral flux, and provides evidence that it can capably reconstruct mesoscale phenomena. We create and apply a new framework for space weather model evaluation that culminates previous guidance from across the solar‐terrestrial research community."
      ],
      "metadata": {
        "id": "vvdb21oGRb_1"
      }
    },
    {
      "cell_type": "code",
      "source": [
        "import pandas as pd\n",
        "import numpy as np\n",
        "import matplotlib.pyplot as plt\n",
        "import seaborn as sns\n",
        "import os \n",
        "#\n",
        "import warnings \n",
        "warnings.filterwarnings('ignore')\n",
        "warnings.filterwarnings('ignore', category=DeprecationWarning)"
      ],
      "metadata": {
        "id": "KqIBj3t_1mRb"
      },
      "execution_count": 2,
      "outputs": []
    },
    {
      "cell_type": "code",
      "source": [
        "path_dir = \"/content/drive/MyDrive/TMLC/DMSP Particle Precipitate Flux Prediction\"\n",
        "file_name = \"AI_Ready_DMSP_Data.csv\"\n",
        "file_path = os.path.join(path_dir,file_name)\n",
        "print(file_path)"
      ],
      "metadata": {
        "colab": {
          "base_uri": "https://localhost:8080/"
        },
        "id": "scJoXpuPT3Zx",
        "outputId": "f8616bd5-1130-418e-b6bf-d83ba2957772"
      },
      "execution_count": 3,
      "outputs": [
        {
          "output_type": "stream",
          "name": "stdout",
          "text": [
            "/content/drive/MyDrive/TMLC/DMSP Particle Precipitate Flux Prediction/AI_Ready_DMSP_Data.csv\n"
          ]
        }
      ]
    },
    {
      "cell_type": "code",
      "source": [
        "df = pd.read_csv(file_path)\n"
      ],
      "metadata": {
        "id": "aBrMoSmcZsjo"
      },
      "execution_count": 4,
      "outputs": []
    },
    {
      "cell_type": "code",
      "source": [
        "df.head()"
      ],
      "metadata": {
        "id": "wSEjvv0w3dsr",
        "outputId": "00f573e9-c95e-4753-d461-6ffdd6d1d4c6",
        "colab": {
          "base_uri": "https://localhost:8080/",
          "height": 473
        }
      },
      "execution_count": 5,
      "outputs": [
        {
          "output_type": "execute_result",
          "data": {
            "text/plain": [
              "             Datetimes  SC_AACGM_LAT  SC_AACGM_LTIME  ELE_TOTAL_ENERGY_FLUX  \\\n",
              "0  1987-01-12 12:57:00     51.143220        5.664024           2.057827e+08   \n",
              "1  1987-01-12 12:58:00     54.137207        5.535848           2.509837e+08   \n",
              "2  1987-01-12 13:01:00     62.928176        5.031172           4.469146e+08   \n",
              "3  1987-01-12 13:02:00     65.719631        4.794780           1.934849e+10   \n",
              "4  1987-01-12 13:03:00     68.392364        4.507448           3.913337e+11   \n",
              "\n",
              "   ELE_TOTAL_ENERGY_FLUX_STD  ELE_AVG_ENERGY  ELE_AVG_ENERGY_STD  ID_SC  \\\n",
              "0                   0.411230        39.89341            0.411485    6.0   \n",
              "1                   0.478268        40.82392            0.478568    6.0   \n",
              "2                   0.603362       143.77360            0.604023    6.0   \n",
              "3                   0.103648       820.36560            0.103671    6.0   \n",
              "4                   0.114959      5291.57100            0.114959    6.0   \n",
              "\n",
              "     sin_ut    cos_ut  ...  AE_5min  AL_5min  AU_5min  SymH_5min  PC_5min  \\\n",
              "0 -0.246153 -0.969231  ...     86.0    -61.0     25.0        3.0     0.77   \n",
              "1 -0.250380 -0.968148  ...     86.0    -61.0     25.0        3.0     0.77   \n",
              "2 -0.263031 -0.964787  ...     82.0    -58.0     24.0        3.0     0.77   \n",
              "3 -0.267238 -0.963630  ...     82.0    -58.0     24.0        3.0     0.77   \n",
              "4 -0.271440 -0.962455  ...     82.0    -58.0     24.0        3.0     0.77   \n",
              "\n",
              "   vsw_5min  vx_5min  psw_5min  borovsky_5min  newell_5min  \n",
              "0     356.0   -355.5      2.96   17439.640589  2489.686963  \n",
              "1     356.0   -355.5      2.96   17439.640589  2489.686963  \n",
              "2     354.7   -354.1      3.20   14199.368957  1847.748015  \n",
              "3     354.7   -354.1      3.20   14199.368957  1847.748015  \n",
              "4     354.7   -354.1      3.20   14199.368957  1847.748015  \n",
              "\n",
              "[5 rows x 154 columns]"
            ],
            "text/html": [
              "\n",
              "  <div id=\"df-df6d5e9e-696d-4132-9d8d-42d7551147b9\">\n",
              "    <div class=\"colab-df-container\">\n",
              "      <div>\n",
              "<style scoped>\n",
              "    .dataframe tbody tr th:only-of-type {\n",
              "        vertical-align: middle;\n",
              "    }\n",
              "\n",
              "    .dataframe tbody tr th {\n",
              "        vertical-align: top;\n",
              "    }\n",
              "\n",
              "    .dataframe thead th {\n",
              "        text-align: right;\n",
              "    }\n",
              "</style>\n",
              "<table border=\"1\" class=\"dataframe\">\n",
              "  <thead>\n",
              "    <tr style=\"text-align: right;\">\n",
              "      <th></th>\n",
              "      <th>Datetimes</th>\n",
              "      <th>SC_AACGM_LAT</th>\n",
              "      <th>SC_AACGM_LTIME</th>\n",
              "      <th>ELE_TOTAL_ENERGY_FLUX</th>\n",
              "      <th>ELE_TOTAL_ENERGY_FLUX_STD</th>\n",
              "      <th>ELE_AVG_ENERGY</th>\n",
              "      <th>ELE_AVG_ENERGY_STD</th>\n",
              "      <th>ID_SC</th>\n",
              "      <th>sin_ut</th>\n",
              "      <th>cos_ut</th>\n",
              "      <th>...</th>\n",
              "      <th>AE_5min</th>\n",
              "      <th>AL_5min</th>\n",
              "      <th>AU_5min</th>\n",
              "      <th>SymH_5min</th>\n",
              "      <th>PC_5min</th>\n",
              "      <th>vsw_5min</th>\n",
              "      <th>vx_5min</th>\n",
              "      <th>psw_5min</th>\n",
              "      <th>borovsky_5min</th>\n",
              "      <th>newell_5min</th>\n",
              "    </tr>\n",
              "  </thead>\n",
              "  <tbody>\n",
              "    <tr>\n",
              "      <th>0</th>\n",
              "      <td>1987-01-12 12:57:00</td>\n",
              "      <td>51.143220</td>\n",
              "      <td>5.664024</td>\n",
              "      <td>2.057827e+08</td>\n",
              "      <td>0.411230</td>\n",
              "      <td>39.89341</td>\n",
              "      <td>0.411485</td>\n",
              "      <td>6.0</td>\n",
              "      <td>-0.246153</td>\n",
              "      <td>-0.969231</td>\n",
              "      <td>...</td>\n",
              "      <td>86.0</td>\n",
              "      <td>-61.0</td>\n",
              "      <td>25.0</td>\n",
              "      <td>3.0</td>\n",
              "      <td>0.77</td>\n",
              "      <td>356.0</td>\n",
              "      <td>-355.5</td>\n",
              "      <td>2.96</td>\n",
              "      <td>17439.640589</td>\n",
              "      <td>2489.686963</td>\n",
              "    </tr>\n",
              "    <tr>\n",
              "      <th>1</th>\n",
              "      <td>1987-01-12 12:58:00</td>\n",
              "      <td>54.137207</td>\n",
              "      <td>5.535848</td>\n",
              "      <td>2.509837e+08</td>\n",
              "      <td>0.478268</td>\n",
              "      <td>40.82392</td>\n",
              "      <td>0.478568</td>\n",
              "      <td>6.0</td>\n",
              "      <td>-0.250380</td>\n",
              "      <td>-0.968148</td>\n",
              "      <td>...</td>\n",
              "      <td>86.0</td>\n",
              "      <td>-61.0</td>\n",
              "      <td>25.0</td>\n",
              "      <td>3.0</td>\n",
              "      <td>0.77</td>\n",
              "      <td>356.0</td>\n",
              "      <td>-355.5</td>\n",
              "      <td>2.96</td>\n",
              "      <td>17439.640589</td>\n",
              "      <td>2489.686963</td>\n",
              "    </tr>\n",
              "    <tr>\n",
              "      <th>2</th>\n",
              "      <td>1987-01-12 13:01:00</td>\n",
              "      <td>62.928176</td>\n",
              "      <td>5.031172</td>\n",
              "      <td>4.469146e+08</td>\n",
              "      <td>0.603362</td>\n",
              "      <td>143.77360</td>\n",
              "      <td>0.604023</td>\n",
              "      <td>6.0</td>\n",
              "      <td>-0.263031</td>\n",
              "      <td>-0.964787</td>\n",
              "      <td>...</td>\n",
              "      <td>82.0</td>\n",
              "      <td>-58.0</td>\n",
              "      <td>24.0</td>\n",
              "      <td>3.0</td>\n",
              "      <td>0.77</td>\n",
              "      <td>354.7</td>\n",
              "      <td>-354.1</td>\n",
              "      <td>3.20</td>\n",
              "      <td>14199.368957</td>\n",
              "      <td>1847.748015</td>\n",
              "    </tr>\n",
              "    <tr>\n",
              "      <th>3</th>\n",
              "      <td>1987-01-12 13:02:00</td>\n",
              "      <td>65.719631</td>\n",
              "      <td>4.794780</td>\n",
              "      <td>1.934849e+10</td>\n",
              "      <td>0.103648</td>\n",
              "      <td>820.36560</td>\n",
              "      <td>0.103671</td>\n",
              "      <td>6.0</td>\n",
              "      <td>-0.267238</td>\n",
              "      <td>-0.963630</td>\n",
              "      <td>...</td>\n",
              "      <td>82.0</td>\n",
              "      <td>-58.0</td>\n",
              "      <td>24.0</td>\n",
              "      <td>3.0</td>\n",
              "      <td>0.77</td>\n",
              "      <td>354.7</td>\n",
              "      <td>-354.1</td>\n",
              "      <td>3.20</td>\n",
              "      <td>14199.368957</td>\n",
              "      <td>1847.748015</td>\n",
              "    </tr>\n",
              "    <tr>\n",
              "      <th>4</th>\n",
              "      <td>1987-01-12 13:03:00</td>\n",
              "      <td>68.392364</td>\n",
              "      <td>4.507448</td>\n",
              "      <td>3.913337e+11</td>\n",
              "      <td>0.114959</td>\n",
              "      <td>5291.57100</td>\n",
              "      <td>0.114959</td>\n",
              "      <td>6.0</td>\n",
              "      <td>-0.271440</td>\n",
              "      <td>-0.962455</td>\n",
              "      <td>...</td>\n",
              "      <td>82.0</td>\n",
              "      <td>-58.0</td>\n",
              "      <td>24.0</td>\n",
              "      <td>3.0</td>\n",
              "      <td>0.77</td>\n",
              "      <td>354.7</td>\n",
              "      <td>-354.1</td>\n",
              "      <td>3.20</td>\n",
              "      <td>14199.368957</td>\n",
              "      <td>1847.748015</td>\n",
              "    </tr>\n",
              "  </tbody>\n",
              "</table>\n",
              "<p>5 rows × 154 columns</p>\n",
              "</div>\n",
              "      <button class=\"colab-df-convert\" onclick=\"convertToInteractive('df-df6d5e9e-696d-4132-9d8d-42d7551147b9')\"\n",
              "              title=\"Convert this dataframe to an interactive table.\"\n",
              "              style=\"display:none;\">\n",
              "        \n",
              "  <svg xmlns=\"http://www.w3.org/2000/svg\" height=\"24px\"viewBox=\"0 0 24 24\"\n",
              "       width=\"24px\">\n",
              "    <path d=\"M0 0h24v24H0V0z\" fill=\"none\"/>\n",
              "    <path d=\"M18.56 5.44l.94 2.06.94-2.06 2.06-.94-2.06-.94-.94-2.06-.94 2.06-2.06.94zm-11 1L8.5 8.5l.94-2.06 2.06-.94-2.06-.94L8.5 2.5l-.94 2.06-2.06.94zm10 10l.94 2.06.94-2.06 2.06-.94-2.06-.94-.94-2.06-.94 2.06-2.06.94z\"/><path d=\"M17.41 7.96l-1.37-1.37c-.4-.4-.92-.59-1.43-.59-.52 0-1.04.2-1.43.59L10.3 9.45l-7.72 7.72c-.78.78-.78 2.05 0 2.83L4 21.41c.39.39.9.59 1.41.59.51 0 1.02-.2 1.41-.59l7.78-7.78 2.81-2.81c.8-.78.8-2.07 0-2.86zM5.41 20L4 18.59l7.72-7.72 1.47 1.35L5.41 20z\"/>\n",
              "  </svg>\n",
              "      </button>\n",
              "      \n",
              "  <style>\n",
              "    .colab-df-container {\n",
              "      display:flex;\n",
              "      flex-wrap:wrap;\n",
              "      gap: 12px;\n",
              "    }\n",
              "\n",
              "    .colab-df-convert {\n",
              "      background-color: #E8F0FE;\n",
              "      border: none;\n",
              "      border-radius: 50%;\n",
              "      cursor: pointer;\n",
              "      display: none;\n",
              "      fill: #1967D2;\n",
              "      height: 32px;\n",
              "      padding: 0 0 0 0;\n",
              "      width: 32px;\n",
              "    }\n",
              "\n",
              "    .colab-df-convert:hover {\n",
              "      background-color: #E2EBFA;\n",
              "      box-shadow: 0px 1px 2px rgba(60, 64, 67, 0.3), 0px 1px 3px 1px rgba(60, 64, 67, 0.15);\n",
              "      fill: #174EA6;\n",
              "    }\n",
              "\n",
              "    [theme=dark] .colab-df-convert {\n",
              "      background-color: #3B4455;\n",
              "      fill: #D2E3FC;\n",
              "    }\n",
              "\n",
              "    [theme=dark] .colab-df-convert:hover {\n",
              "      background-color: #434B5C;\n",
              "      box-shadow: 0px 1px 3px 1px rgba(0, 0, 0, 0.15);\n",
              "      filter: drop-shadow(0px 1px 2px rgba(0, 0, 0, 0.3));\n",
              "      fill: #FFFFFF;\n",
              "    }\n",
              "  </style>\n",
              "\n",
              "      <script>\n",
              "        const buttonEl =\n",
              "          document.querySelector('#df-df6d5e9e-696d-4132-9d8d-42d7551147b9 button.colab-df-convert');\n",
              "        buttonEl.style.display =\n",
              "          google.colab.kernel.accessAllowed ? 'block' : 'none';\n",
              "\n",
              "        async function convertToInteractive(key) {\n",
              "          const element = document.querySelector('#df-df6d5e9e-696d-4132-9d8d-42d7551147b9');\n",
              "          const dataTable =\n",
              "            await google.colab.kernel.invokeFunction('convertToInteractive',\n",
              "                                                     [key], {});\n",
              "          if (!dataTable) return;\n",
              "\n",
              "          const docLinkHtml = 'Like what you see? Visit the ' +\n",
              "            '<a target=\"_blank\" href=https://colab.research.google.com/notebooks/data_table.ipynb>data table notebook</a>'\n",
              "            + ' to learn more about interactive tables.';\n",
              "          element.innerHTML = '';\n",
              "          dataTable['output_type'] = 'display_data';\n",
              "          await google.colab.output.renderOutput(dataTable, element);\n",
              "          const docLink = document.createElement('div');\n",
              "          docLink.innerHTML = docLinkHtml;\n",
              "          element.appendChild(docLink);\n",
              "        }\n",
              "      </script>\n",
              "    </div>\n",
              "  </div>\n",
              "  "
            ]
          },
          "metadata": {},
          "execution_count": 5
        }
      ]
    },
    {
      "cell_type": "code",
      "source": [
        "print(df.columns.tolist())"
      ],
      "metadata": {
        "id": "w27GlvbiL-oB",
        "outputId": "3271de9e-1355-4d1f-ee02-31fc4c9e10d9",
        "colab": {
          "base_uri": "https://localhost:8080/"
        }
      },
      "execution_count": 8,
      "outputs": [
        {
          "output_type": "stream",
          "name": "stdout",
          "text": [
            "['Datetimes', 'SC_AACGM_LAT', 'SC_AACGM_LTIME', 'ELE_TOTAL_ENERGY_FLUX', 'ELE_TOTAL_ENERGY_FLUX_STD', 'ELE_AVG_ENERGY', 'ELE_AVG_ENERGY_STD', 'ID_SC', 'sin_ut', 'cos_ut', 'sin_doy', 'cos_doy', 'sin_SC_AACGM_LTIME', 'cos_SC_AACGM_LTIME', 'F107', 'Bz', 'By', 'Bx', 'AE', 'AL', 'AU', 'SymH', 'PC', 'vsw', 'vx', 'psw', 'borovsky', 'newell', 'F107_6hr', 'Bz_6hr', 'By_6hr', 'Bx_6hr', 'AE_6hr', 'AL_6hr', 'AU_6hr', 'SymH_6hr', 'PC_6hr', 'vsw_6hr', 'vx_6hr', 'psw_6hr', 'borovsky_6hr', 'newell_6hr', 'F107_5hr', 'Bz_5hr', 'By_5hr', 'Bx_5hr', 'AE_5hr', 'AL_5hr', 'AU_5hr', 'SymH_5hr', 'PC_5hr', 'vsw_5hr', 'vx_5hr', 'psw_5hr', 'borovsky_5hr', 'newell_5hr', 'F107_3hr', 'Bz_3hr', 'By_3hr', 'Bx_3hr', 'AE_3hr', 'AL_3hr', 'AU_3hr', 'SymH_3hr', 'PC_3hr', 'vsw_3hr', 'vx_3hr', 'psw_3hr', 'borovsky_3hr', 'newell_3hr', 'F107_1hr', 'Bz_1hr', 'By_1hr', 'Bx_1hr', 'AE_1hr', 'AL_1hr', 'AU_1hr', 'SymH_1hr', 'PC_1hr', 'vsw_1hr', 'vx_1hr', 'psw_1hr', 'borovsky_1hr', 'newell_1hr', 'F107_45min', 'Bz_45min', 'By_45min', 'Bx_45min', 'AE_45min', 'AL_45min', 'AU_45min', 'SymH_45min', 'PC_45min', 'vsw_45min', 'vx_45min', 'psw_45min', 'borovsky_45min', 'newell_45min', 'F107_30min', 'Bz_30min', 'By_30min', 'Bx_30min', 'AE_30min', 'AL_30min', 'AU_30min', 'SymH_30min', 'PC_30min', 'vsw_30min', 'vx_30min', 'psw_30min', 'borovsky_30min', 'newell_30min', 'F107_15min', 'Bz_15min', 'By_15min', 'Bx_15min', 'AE_15min', 'AL_15min', 'AU_15min', 'SymH_15min', 'PC_15min', 'vsw_15min', 'vx_15min', 'psw_15min', 'borovsky_15min', 'newell_15min', 'F107_10min', 'Bz_10min', 'By_10min', 'Bx_10min', 'AE_10min', 'AL_10min', 'AU_10min', 'SymH_10min', 'PC_10min', 'vsw_10min', 'vx_10min', 'psw_10min', 'borovsky_10min', 'newell_10min', 'F107_5min', 'Bz_5min', 'By_5min', 'Bx_5min', 'AE_5min', 'AL_5min', 'AU_5min', 'SymH_5min', 'PC_5min', 'vsw_5min', 'vx_5min', 'psw_5min', 'borovsky_5min', 'newell_5min']\n"
          ]
        }
      ]
    },
    {
      "cell_type": "markdown",
      "source": [
        "## Summary Statistics"
      ],
      "metadata": {
        "id": "7OXcnRu5a_xW"
      }
    },
    {
      "cell_type": "code",
      "source": [
        "df.shape"
      ],
      "metadata": {
        "colab": {
          "base_uri": "https://localhost:8080/"
        },
        "id": "Rf2leG-EZyA1",
        "outputId": "9c9c2b1c-b5aa-4f6b-862d-960292f81b31"
      },
      "execution_count": 9,
      "outputs": [
        {
          "output_type": "execute_result",
          "data": {
            "text/plain": [
              "(1945887, 154)"
            ]
          },
          "metadata": {},
          "execution_count": 9
        }
      ]
    },
    {
      "cell_type": "code",
      "source": [
        "df.info()"
      ],
      "metadata": {
        "colab": {
          "base_uri": "https://localhost:8080/"
        },
        "id": "dx9ey4s1a2rY",
        "outputId": "17279ae8-600a-4b70-dcdf-cc4b907b4cb9"
      },
      "execution_count": 10,
      "outputs": [
        {
          "output_type": "stream",
          "name": "stdout",
          "text": [
            "<class 'pandas.core.frame.DataFrame'>\n",
            "RangeIndex: 1945887 entries, 0 to 1945886\n",
            "Columns: 154 entries, Datetimes to newell_5min\n",
            "dtypes: datetime64[ns](1), float64(153)\n",
            "memory usage: 2.2 GB\n"
          ]
        }
      ]
    },
    {
      "cell_type": "code",
      "source": [
        "df['Datetimes'].dtypes"
      ],
      "metadata": {
        "colab": {
          "base_uri": "https://localhost:8080/"
        },
        "id": "G1pbqkhjcf5u",
        "outputId": "2dd36a3f-451d-4f30-cc1d-0a2e2ecae45c"
      },
      "execution_count": 11,
      "outputs": [
        {
          "output_type": "execute_result",
          "data": {
            "text/plain": [
              "dtype('<M8[ns]')"
            ]
          },
          "metadata": {},
          "execution_count": 11
        }
      ]
    },
    {
      "cell_type": "markdown",
      "source": [
        "## Check Null Values"
      ],
      "metadata": {
        "id": "M5BXq57v3DYz"
      }
    },
    {
      "cell_type": "code",
      "source": [
        "df.isnull().sum()[df.isnull().sum() > 0]"
      ],
      "metadata": {
        "colab": {
          "base_uri": "https://localhost:8080/"
        },
        "id": "pOdwLWNu284S",
        "outputId": "76d1ed10-854e-4e60-d460-9be020f391b2"
      },
      "execution_count": 12,
      "outputs": [
        {
          "output_type": "execute_result",
          "data": {
            "text/plain": [
              "Series([], dtype: int64)"
            ]
          },
          "metadata": {},
          "execution_count": 12
        }
      ]
    },
    {
      "cell_type": "code",
      "source": [
        "df['Datetimes'] = pd.to_datetime(df['Datetimes'])"
      ],
      "metadata": {
        "id": "oHW2hTo95_Cg"
      },
      "execution_count": 6,
      "outputs": []
    },
    {
      "cell_type": "code",
      "source": [
        "df.info()"
      ],
      "metadata": {
        "colab": {
          "base_uri": "https://localhost:8080/"
        },
        "id": "JqdkxQgzH_5w",
        "outputId": "5195c34f-d807-49e3-fd41-1cbfeec52bcb"
      },
      "execution_count": 11,
      "outputs": [
        {
          "output_type": "stream",
          "name": "stdout",
          "text": [
            "<class 'pandas.core.frame.DataFrame'>\n",
            "RangeIndex: 1945887 entries, 0 to 1945886\n",
            "Columns: 154 entries, Datetimes to newell_5min\n",
            "dtypes: datetime64[ns](1), float64(153)\n",
            "memory usage: 2.2 GB\n"
          ]
        }
      ]
    },
    {
      "cell_type": "markdown",
      "source": [
        "##Target - ELE_TOTAL_ENERGY_FLUX"
      ],
      "metadata": {
        "id": "RDH-bolYWQMg"
      }
    },
    {
      "cell_type": "code",
      "source": [
        "df['ELE_TOTAL_ENERGY_FLUX'].describe()"
      ],
      "metadata": {
        "colab": {
          "base_uri": "https://localhost:8080/"
        },
        "id": "DqYddywmWBN_",
        "outputId": "b4835573-ded9-466e-afc3-19352dad1db5"
      },
      "execution_count": 12,
      "outputs": [
        {
          "output_type": "execute_result",
          "data": {
            "text/plain": [
              "count    1.945887e+06\n",
              "mean     3.482163e+11\n",
              "std      9.502920e+13\n",
              "min      2.632692e+06\n",
              "25%      1.695103e+08\n",
              "50%      5.541485e+08\n",
              "75%      1.304165e+10\n",
              "max      5.648257e+16\n",
              "Name: ELE_TOTAL_ENERGY_FLUX, dtype: float64"
            ]
          },
          "metadata": {},
          "execution_count": 12
        }
      ]
    },
    {
      "cell_type": "code",
      "source": [
        "sns.displot(data=df,x='ELE_TOTAL_ENERGY_FLUX',kind=\"kde\")"
      ],
      "metadata": {
        "colab": {
          "base_uri": "https://localhost:8080/",
          "height": 386
        },
        "id": "eaMr2-9eRyUE",
        "outputId": "14615c24-5456-4877-c4db-dcc4fb232c67"
      },
      "execution_count": 13,
      "outputs": [
        {
          "output_type": "execute_result",
          "data": {
            "text/plain": [
              "<seaborn.axisgrid.FacetGrid at 0x7f66e81e7b10>"
            ]
          },
          "metadata": {},
          "execution_count": 13
        },
        {
          "output_type": "display_data",
          "data": {
            "text/plain": [
              "<Figure size 360x360 with 1 Axes>"
            ],
            "image/png": "[encoded data removed]"
          },
          "metadata": {
            "needs_background": "light"
          }
        }
      ]
    },
    {
      "cell_type": "code",
      "source": [
        "df['Year'] = df['Datetimes'].dt.year\n",
        "df['Month'] = df['Datetimes'].dt.month\n",
        "df['Day'] = df['Datetimes'].dt.day"
      ],
      "metadata": {
        "id": "Ur-TBLQ6R-vd"
      },
      "execution_count": 18,
      "outputs": []
    },
    {
      "cell_type": "code",
      "source": [
        "sns.lineplot(x='Year',y='ELE_TOTAL_ENERGY_FLUX',data=df)"
      ],
      "metadata": {
        "colab": {
          "base_uri": "https://localhost:8080/",
          "height": 307
        },
        "id": "eFu1hz8jaN52",
        "outputId": "dafa2ca6-9794-484c-d4dd-6306cbbd037e"
      },
      "execution_count": 15,
      "outputs": [
        {
          "output_type": "execute_result",
          "data": {
            "text/plain": [
              "<matplotlib.axes._subplots.AxesSubplot at 0x7f66e8f10610>"
            ]
          },
          "metadata": {},
          "execution_count": 15
        },
        {
          "output_type": "display_data",
          "data": {
            "text/plain": [
              "<Figure size 432x288 with 1 Axes>"
            ],
            "image/png": "[encoded data removed]"
          },
          "metadata": {
            "needs_background": "light"
          }
        }
      ]
    },
    {
      "cell_type": "code",
      "source": [
        "sns.lineplot(x='Month',y='ELE_TOTAL_ENERGY_FLUX',data=df)"
      ],
      "metadata": {
        "colab": {
          "base_uri": "https://localhost:8080/",
          "height": 307
        },
        "id": "k71RDLyuag2c",
        "outputId": "a63e94ac-632c-4176-e7e3-880684ab46f4"
      },
      "execution_count": 16,
      "outputs": [
        {
          "output_type": "execute_result",
          "data": {
            "text/plain": [
              "<matplotlib.axes._subplots.AxesSubplot at 0x7f66e614a050>"
            ]
          },
          "metadata": {},
          "execution_count": 16
        },
        {
          "output_type": "display_data",
          "data": {
            "text/plain": [
              "<Figure size 432x288 with 1 Axes>"
            ],
            "image/png": "[encoded data removed]"
          },
          "metadata": {
            "needs_background": "light"
          }
        }
      ]
    },
    {
      "cell_type": "code",
      "source": [
        "sns.lineplot(x='Day',y='ELE_TOTAL_ENERGY_FLUX',data=df)"
      ],
      "metadata": {
        "id": "rTP8l8N7M5t0",
        "outputId": "ebdecadc-bea7-4a58-830a-724d2ba0b359",
        "colab": {
          "base_uri": "https://localhost:8080/",
          "height": 307
        }
      },
      "execution_count": 17,
      "outputs": [
        {
          "output_type": "execute_result",
          "data": {
            "text/plain": [
              "<matplotlib.axes._subplots.AxesSubplot at 0x7f66e5206810>"
            ]
          },
          "metadata": {},
          "execution_count": 17
        },
        {
          "output_type": "display_data",
          "data": {
            "text/plain": [
              "<Figure size 432x288 with 1 Axes>"
            ],
            "image/png": "[encoded data removed]"
          },
          "metadata": {
            "needs_background": "light"
          }
        }
      ]
    },
    {
      "cell_type": "code",
      "source": [
        "new_df = df.drop('Datetimes',axis=1)"
      ],
      "metadata": {
        "id": "Y3dLMi0NcgpB"
      },
      "execution_count": 21,
      "outputs": []
    },
    {
      "cell_type": "code",
      "source": [
        "new_df.shape"
      ],
      "metadata": {
        "colab": {
          "base_uri": "https://localhost:8080/"
        },
        "id": "7NMJQ41thFs-",
        "outputId": "e3ed98f1-5928-43bf-92a3-cb11dccab4c3"
      },
      "execution_count": 22,
      "outputs": [
        {
          "output_type": "execute_result",
          "data": {
            "text/plain": [
              "(1945887, 156)"
            ]
          },
          "metadata": {},
          "execution_count": 22
        }
      ]
    },
    {
      "cell_type": "markdown",
      "source": [
        "https://github.com/rmcgranaghan/precipNet/blob/master/Final__Data_Read_And_Prepare.ipynb"
      ],
      "metadata": {
        "id": "y_1_x0JKmc2p"
      }
    },
    {
      "cell_type": "code",
      "source": [
        "# Choose columns to drop\n",
        "cols_to_drop = [c for c in new_df.columns if ('1min' in c) | ('3min' in c) | ('4min' in c) | ('_5min'in c) | ('15min' in c)| ('5hr' in c) | ('F107_' in c) | ('vx' in c) | ('AE' in c) | ('newell' in c) | ('borovsky' in c) | ('STD' in c) | ('AVG' in c) | ('SC_AACGM_LTIME'==c)]\n",
        "new_df = new_df.drop(columns=cols_to_drop)"
      ],
      "metadata": {
        "id": "SWeMQfvOmapV"
      },
      "execution_count": 23,
      "outputs": []
    },
    {
      "cell_type": "code",
      "source": [
        "new_df.shape"
      ],
      "metadata": {
        "id": "5pE9NCI9q-AA",
        "outputId": "d9ecd748-44ee-4efe-afb0-5d260bdc679f",
        "colab": {
          "base_uri": "https://localhost:8080/"
        }
      },
      "execution_count": 24,
      "outputs": [
        {
          "output_type": "execute_result",
          "data": {
            "text/plain": [
              "(1945887, 76)"
            ]
          },
          "metadata": {},
          "execution_count": 24
        }
      ]
    },
    {
      "cell_type": "code",
      "source": [
        "print('number of input features total = {}'.format(new_df.shape[1]))"
      ],
      "metadata": {
        "id": "Wq-TeDW7sUMB",
        "outputId": "b26cdc97-e1cd-45b1-9f3e-2656fa847cc6",
        "colab": {
          "base_uri": "https://localhost:8080/"
        }
      },
      "execution_count": 25,
      "outputs": [
        {
          "output_type": "stream",
          "name": "stdout",
          "text": [
            "number of input features total = 76\n"
          ]
        }
      ]
    },
    {
      "cell_type": "markdown",
      "source": [
        "\n",
        "## Reference :\n",
        "\n",
        "https://www.researchgate.net/publication/350946002_Toward_a_Next_Generation_Particle_Precipitation_Model_Mesoscale_Prediction_Through_Machine_Learning_a_Case_Study_and_Framework_for_Progress\n",
        "\n",
        "#### Two final points about data preparation. \n",
        "\n",
        "* First, we remove observations that represent unrealistically large fluxes, deemed to be those exceeding the 99.995th percentile (equal to 7.3673E+13 [eV/cm2/s/ster] or ∼118erg/cm2/sr/s), which was empirically determined to separate values that were nonphysical. \n",
        "* Second, we combine the northern and southern hemispheres. The sun-synchronous orbits of the DMSP spacecraft restricts their MLT coverage, necessitating the combination of northern and southern hemisphere observations to com-plete the local time coverage"
      ],
      "metadata": {
        "id": "m-ratJ-1SItv"
      }
    },
    {
      "cell_type": "code",
      "source": [
        "# Define the threshold above which to remove energy flux values\n",
        "eflux_threshold_quantile = 99.995\n",
        "eflux_threshold = .99995\n",
        "\n",
        "# Define the conversion factor from eV to erg\n",
        "erg_eV_factor = (1.60218e-12)"
      ],
      "metadata": {
        "id": "kqcXgLu5q_BA"
      },
      "execution_count": 26,
      "outputs": []
    },
    {
      "cell_type": "markdown",
      "source": [
        "## Remove Outliers"
      ],
      "metadata": {
        "id": "Z5DJVASLs4so"
      }
    },
    {
      "cell_type": "code",
      "source": [
        "# Remove outliers\n",
        "\n",
        "print(new_df.shape)\n",
        "threshold_drop_val = np.percentile(new_df['ELE_TOTAL_ENERGY_FLUX'],eflux_threshold_quantile)\n",
        "print('... dropping rows where total electron energy flux is greater than {:.4E} [eV/cm2/s/ster]'.format(threshold_drop_val))\n",
        "print('--------> number dropped = {}'.format(len( np.argwhere(new_df['ELE_TOTAL_ENERGY_FLUX'].values > threshold_drop_val) )))\n",
        "#\n",
        "new_df = new_df[ (new_df['ELE_TOTAL_ENERGY_FLUX'].values < threshold_drop_val) ]\n",
        "print(new_df.shape)"
      ],
      "metadata": {
        "id": "0oD2cGsSs659",
        "outputId": "99fb9e39-7bee-425d-ec95-38bcebf5cd8d",
        "colab": {
          "base_uri": "https://localhost:8080/"
        }
      },
      "execution_count": 27,
      "outputs": [
        {
          "output_type": "stream",
          "name": "stdout",
          "text": [
            "(1945887, 76)\n",
            "... dropping rows where total electron energy flux is greater than 7.3673E+13 [eV/cm2/s/ster]\n",
            "--------> number dropped = 98\n",
            "(1945789, 76)\n"
          ]
        }
      ]
    },
    {
      "cell_type": "markdown",
      "source": [
        "## Separate features and target"
      ],
      "metadata": {
        "id": "r5YY73mPfR4a"
      }
    },
    {
      "cell_type": "code",
      "source": [
        "X = new_df.drop('ELE_TOTAL_ENERGY_FLUX',axis=1)\n",
        "Y = new_df['ELE_TOTAL_ENERGY_FLUX']"
      ],
      "metadata": {
        "id": "6RQC5PzzToDy"
      },
      "execution_count": 28,
      "outputs": []
    },
    {
      "cell_type": "markdown",
      "source": [
        "## Feature-engine: Drop Correlated Features"
      ],
      "metadata": {
        "id": "nSNcy_iUgwkQ"
      }
    },
    {
      "cell_type": "code",
      "source": [
        "!pip install --quiet feature-engine"
      ],
      "metadata": {
        "id": "HMu86RZOgxsV",
        "outputId": "443ef500-29cf-4131-e7d8-1a857214942f",
        "colab": {
          "base_uri": "https://localhost:8080/"
        }
      },
      "execution_count": 27,
      "outputs": [
        {
          "output_type": "stream",
          "name": "stdout",
          "text": [
            "\u001b[K     |████████████████████████████████| 205 kB 8.0 MB/s \n",
            "\u001b[K     |████████████████████████████████| 9.8 MB 15.7 MB/s \n",
            "\u001b[?25h"
          ]
        }
      ]
    },
    {
      "cell_type": "code",
      "source": [
        "import feature_engine\n",
        "from feature_engine.selection import DropCorrelatedFeatures"
      ],
      "metadata": {
        "id": "sUOOmg1Vhzyj"
      },
      "execution_count": 29,
      "outputs": []
    },
    {
      "cell_type": "code",
      "source": [
        "tr = DropCorrelatedFeatures(variables=None,method='pearson',threshold=0.8)\n",
        "drop_features= tr.fit_transform(X)"
      ],
      "metadata": {
        "id": "eZZxK0WWjF8w"
      },
      "execution_count": 30,
      "outputs": []
    },
    {
      "cell_type": "code",
      "source": [
        "drop_features.shape"
      ],
      "metadata": {
        "id": "wqkkVAu0j6C5",
        "outputId": "3d1945b5-08c9-4da3-8b7f-b40b76891953",
        "colab": {
          "base_uri": "https://localhost:8080/"
        }
      },
      "execution_count": 31,
      "outputs": [
        {
          "output_type": "execute_result",
          "data": {
            "text/plain": [
              "(1945789, 42)"
            ]
          },
          "metadata": {},
          "execution_count": 31
        }
      ]
    },
    {
      "cell_type": "code",
      "source": [
        "cols_to_drop = drop_features.columns.tolist()"
      ],
      "metadata": {
        "id": "gXXjHR7_k5Ig"
      },
      "execution_count": 32,
      "outputs": []
    },
    {
      "cell_type": "code",
      "source": [
        "cols_to_drop"
      ],
      "metadata": {
        "id": "R0nLtwEQljUX",
        "outputId": "eb7c00b6-a706-4552-e6c2-9d307e72eee6",
        "colab": {
          "base_uri": "https://localhost:8080/"
        }
      },
      "execution_count": 33,
      "outputs": [
        {
          "output_type": "execute_result",
          "data": {
            "text/plain": [
              "['SC_AACGM_LAT',\n",
              " 'ID_SC',\n",
              " 'sin_ut',\n",
              " 'cos_ut',\n",
              " 'sin_doy',\n",
              " 'cos_doy',\n",
              " 'sin_SC_AACGM_LTIME',\n",
              " 'cos_SC_AACGM_LTIME',\n",
              " 'F107',\n",
              " 'Bz',\n",
              " 'By',\n",
              " 'Bx',\n",
              " 'AL',\n",
              " 'AU',\n",
              " 'SymH',\n",
              " 'PC',\n",
              " 'vsw',\n",
              " 'psw',\n",
              " 'Bz_6hr',\n",
              " 'By_6hr',\n",
              " 'Bx_6hr',\n",
              " 'AL_6hr',\n",
              " 'AU_6hr',\n",
              " 'SymH_6hr',\n",
              " 'PC_6hr',\n",
              " 'psw_6hr',\n",
              " 'Bz_3hr',\n",
              " 'By_3hr',\n",
              " 'Bx_3hr',\n",
              " 'AL_3hr',\n",
              " 'AU_3hr',\n",
              " 'PC_3hr',\n",
              " 'psw_3hr',\n",
              " 'Bz_1hr',\n",
              " 'AL_1hr',\n",
              " 'AU_1hr',\n",
              " 'PC_1hr',\n",
              " 'PC_45min',\n",
              " 'Bz_30min',\n",
              " 'AL_30min',\n",
              " 'Month',\n",
              " 'Day']"
            ]
          },
          "metadata": {},
          "execution_count": 33
        }
      ]
    },
    {
      "cell_type": "markdown",
      "source": [
        "## Final Features"
      ],
      "metadata": {
        "id": "7AdcJM1NotAY"
      }
    },
    {
      "cell_type": "code",
      "source": [
        "final_features = X.drop(cols_to_drop,axis=1)"
      ],
      "metadata": {
        "id": "DWYy4yv1mU6H"
      },
      "execution_count": 34,
      "outputs": []
    },
    {
      "cell_type": "markdown",
      "source": [
        "## Train Test Split"
      ],
      "metadata": {
        "id": "JCVpBWIKpTxx"
      }
    },
    {
      "cell_type": "code",
      "source": [
        "from sklearn.model_selection import train_test_split\n",
        "X_train,X_test,y_train,y_test = train_test_split(final_features,Y)"
      ],
      "metadata": {
        "id": "YNo9ROqqpiRc"
      },
      "execution_count": 35,
      "outputs": []
    },
    {
      "cell_type": "code",
      "source": [
        "X_train.shape"
      ],
      "metadata": {
        "id": "4sI-34q00zzy",
        "outputId": "1a4d1372-3a53-4a5d-e8c4-1598efd6dd94",
        "colab": {
          "base_uri": "https://localhost:8080/"
        }
      },
      "execution_count": 36,
      "outputs": [
        {
          "output_type": "execute_result",
          "data": {
            "text/plain": [
              "(1459341, 33)"
            ]
          },
          "metadata": {},
          "execution_count": 36
        }
      ]
    },
    {
      "cell_type": "markdown",
      "source": [
        "## Normalize the data"
      ],
      "metadata": {
        "id": "XZFu-9G_qgnw"
      }
    },
    {
      "cell_type": "code",
      "source": [
        "from sklearn.preprocessing import StandardScaler\n",
        "sc = StandardScaler()\n",
        "\n",
        "X_train_scaled = sc.fit_transform(X_train)\n",
        "X_test_scaled = sc.transform(X_test)"
      ],
      "metadata": {
        "id": "kezQBuzDqf3V"
      },
      "execution_count": 37,
      "outputs": []
    },
    {
      "cell_type": "code",
      "source": [
        "train_scaled = pd.DataFrame(X_train_scaled,columns=X_train.columns)\n",
        "test_scaled = pd.DataFrame(X_test_scaled,columns=X_test.columns)"
      ],
      "metadata": {
        "id": "TGAetoUFvDPz"
      },
      "execution_count": 38,
      "outputs": []
    },
    {
      "cell_type": "code",
      "source": [
        "train_scaled.head()"
      ],
      "metadata": {
        "id": "V_ewUP11wQQA",
        "outputId": "9445254d-d293-4dfb-bbff-8d7b6112ebb6",
        "colab": {
          "base_uri": "https://localhost:8080/",
          "height": 299
        }
      },
      "execution_count": 39,
      "outputs": [
        {
          "output_type": "execute_result",
          "data": {
            "text/plain": [
              "    vsw_6hr  SymH_3hr   vsw_3hr    By_1hr    Bx_1hr  SymH_1hr   vsw_1hr  \\\n",
              "0 -0.619646 -0.860728 -0.850565  0.773072 -0.729182 -0.784367 -0.879239   \n",
              "1 -0.049995  0.354637 -0.036818  1.129384  0.828068  0.407671 -0.100234   \n",
              "2  0.113594 -0.348995  0.324279  1.447633  0.823953 -0.612184  0.258968   \n",
              "3 -0.543816  0.508157 -0.388458 -1.901325  0.266285  1.096404 -0.429901   \n",
              "4  1.198889 -0.553688  1.109086 -0.448107  0.122238 -0.122124  1.279232   \n",
              "\n",
              "    psw_1hr  Bz_45min  By_45min  ...  Bz_10min  By_10min  Bx_10min  AL_10min  \\\n",
              "0 -1.157030 -0.094431  0.695872  ... -0.127093  0.855928 -0.805692  0.749452   \n",
              "1  0.158118 -0.189413  1.209632  ...  0.108682  1.180088  0.264223  0.640938   \n",
              "2 -0.489664 -0.724125  1.513097  ... -0.915356  1.469706  0.556289  0.556538   \n",
              "3 -0.441457 -1.670424 -1.657311  ... -1.260222 -1.902089 -0.060626 -0.118658   \n",
              "4  0.941482  0.493048 -0.922607  ...  1.013073  0.406887  0.118190  0.496253   \n",
              "\n",
              "   AU_10min  SymH_10min  PC_10min  vsw_10min  psw_10min      Year  \n",
              "0 -1.028750   -0.595599 -0.579248  -0.849018  -1.124036  0.394572  \n",
              "1 -0.961452    0.370224 -0.418248  -0.060168   0.121146  0.627438  \n",
              "2 -0.221183   -0.756569  0.901952   0.340040  -0.444043  0.627438  \n",
              "3  1.304220    1.175075  1.492285  -0.379410  -0.558847  1.558904  \n",
              "4 -0.467940   -0.273658 -0.879782   1.161276   0.986591  1.093171  \n",
              "\n",
              "[5 rows x 33 columns]"
            ],
            "text/html": [
              "\n",
              "  <div id=\"df-77337907-e0fc-4533-aad7-f7f707a9be23\">\n",
              "    <div class=\"colab-df-container\">\n",
              "      <div>\n",
              "<style scoped>\n",
              "    .dataframe tbody tr th:only-of-type {\n",
              "        vertical-align: middle;\n",
              "    }\n",
              "\n",
              "    .dataframe tbody tr th {\n",
              "        vertical-align: top;\n",
              "    }\n",
              "\n",
              "    .dataframe thead th {\n",
              "        text-align: right;\n",
              "    }\n",
              "</style>\n",
              "<table border=\"1\" class=\"dataframe\">\n",
              "  <thead>\n",
              "    <tr style=\"text-align: right;\">\n",
              "      <th></th>\n",
              "      <th>vsw_6hr</th>\n",
              "      <th>SymH_3hr</th>\n",
              "      <th>vsw_3hr</th>\n",
              "      <th>By_1hr</th>\n",
              "      <th>Bx_1hr</th>\n",
              "      <th>SymH_1hr</th>\n",
              "      <th>vsw_1hr</th>\n",
              "      <th>psw_1hr</th>\n",
              "      <th>Bz_45min</th>\n",
              "      <th>By_45min</th>\n",
              "      <th>...</th>\n",
              "      <th>Bz_10min</th>\n",
              "      <th>By_10min</th>\n",
              "      <th>Bx_10min</th>\n",
              "      <th>AL_10min</th>\n",
              "      <th>AU_10min</th>\n",
              "      <th>SymH_10min</th>\n",
              "      <th>PC_10min</th>\n",
              "      <th>vsw_10min</th>\n",
              "      <th>psw_10min</th>\n",
              "      <th>Year</th>\n",
              "    </tr>\n",
              "  </thead>\n",
              "  <tbody>\n",
              "    <tr>\n",
              "      <th>0</th>\n",
              "      <td>-0.619646</td>\n",
              "      <td>-0.860728</td>\n",
              "      <td>-0.850565</td>\n",
              "      <td>0.773072</td>\n",
              "      <td>-0.729182</td>\n",
              "      <td>-0.784367</td>\n",
              "      <td>-0.879239</td>\n",
              "      <td>-1.157030</td>\n",
              "      <td>-0.094431</td>\n",
              "      <td>0.695872</td>\n",
              "      <td>...</td>\n",
              "      <td>-0.127093</td>\n",
              "      <td>0.855928</td>\n",
              "      <td>-0.805692</td>\n",
              "      <td>0.749452</td>\n",
              "      <td>-1.028750</td>\n",
              "      <td>-0.595599</td>\n",
              "      <td>-0.579248</td>\n",
              "      <td>-0.849018</td>\n",
              "      <td>-1.124036</td>\n",
              "      <td>0.394572</td>\n",
              "    </tr>\n",
              "    <tr>\n",
              "      <th>1</th>\n",
              "      <td>-0.049995</td>\n",
              "      <td>0.354637</td>\n",
              "      <td>-0.036818</td>\n",
              "      <td>1.129384</td>\n",
              "      <td>0.828068</td>\n",
              "      <td>0.407671</td>\n",
              "      <td>-0.100234</td>\n",
              "      <td>0.158118</td>\n",
              "      <td>-0.189413</td>\n",
              "      <td>1.209632</td>\n",
              "      <td>...</td>\n",
              "      <td>0.108682</td>\n",
              "      <td>1.180088</td>\n",
              "      <td>0.264223</td>\n",
              "      <td>0.640938</td>\n",
              "      <td>-0.961452</td>\n",
              "      <td>0.370224</td>\n",
              "      <td>-0.418248</td>\n",
              "      <td>-0.060168</td>\n",
              "      <td>0.121146</td>\n",
              "      <td>0.627438</td>\n",
              "    </tr>\n",
              "    <tr>\n",
              "      <th>2</th>\n",
              "      <td>0.113594</td>\n",
              "      <td>-0.348995</td>\n",
              "      <td>0.324279</td>\n",
              "      <td>1.447633</td>\n",
              "      <td>0.823953</td>\n",
              "      <td>-0.612184</td>\n",
              "      <td>0.258968</td>\n",
              "      <td>-0.489664</td>\n",
              "      <td>-0.724125</td>\n",
              "      <td>1.513097</td>\n",
              "      <td>...</td>\n",
              "      <td>-0.915356</td>\n",
              "      <td>1.469706</td>\n",
              "      <td>0.556289</td>\n",
              "      <td>0.556538</td>\n",
              "      <td>-0.221183</td>\n",
              "      <td>-0.756569</td>\n",
              "      <td>0.901952</td>\n",
              "      <td>0.340040</td>\n",
              "      <td>-0.444043</td>\n",
              "      <td>0.627438</td>\n",
              "    </tr>\n",
              "    <tr>\n",
              "      <th>3</th>\n",
              "      <td>-0.543816</td>\n",
              "      <td>0.508157</td>\n",
              "      <td>-0.388458</td>\n",
              "      <td>-1.901325</td>\n",
              "      <td>0.266285</td>\n",
              "      <td>1.096404</td>\n",
              "      <td>-0.429901</td>\n",
              "      <td>-0.441457</td>\n",
              "      <td>-1.670424</td>\n",
              "      <td>-1.657311</td>\n",
              "      <td>...</td>\n",
              "      <td>-1.260222</td>\n",
              "      <td>-1.902089</td>\n",
              "      <td>-0.060626</td>\n",
              "      <td>-0.118658</td>\n",
              "      <td>1.304220</td>\n",
              "      <td>1.175075</td>\n",
              "      <td>1.492285</td>\n",
              "      <td>-0.379410</td>\n",
              "      <td>-0.558847</td>\n",
              "      <td>1.558904</td>\n",
              "    </tr>\n",
              "    <tr>\n",
              "      <th>4</th>\n",
              "      <td>1.198889</td>\n",
              "      <td>-0.553688</td>\n",
              "      <td>1.109086</td>\n",
              "      <td>-0.448107</td>\n",
              "      <td>0.122238</td>\n",
              "      <td>-0.122124</td>\n",
              "      <td>1.279232</td>\n",
              "      <td>0.941482</td>\n",
              "      <td>0.493048</td>\n",
              "      <td>-0.922607</td>\n",
              "      <td>...</td>\n",
              "      <td>1.013073</td>\n",
              "      <td>0.406887</td>\n",
              "      <td>0.118190</td>\n",
              "      <td>0.496253</td>\n",
              "      <td>-0.467940</td>\n",
              "      <td>-0.273658</td>\n",
              "      <td>-0.879782</td>\n",
              "      <td>1.161276</td>\n",
              "      <td>0.986591</td>\n",
              "      <td>1.093171</td>\n",
              "    </tr>\n",
              "  </tbody>\n",
              "</table>\n",
              "<p>5 rows × 33 columns</p>\n",
              "</div>\n",
              "      <button class=\"colab-df-convert\" onclick=\"convertToInteractive('df-77337907-e0fc-4533-aad7-f7f707a9be23')\"\n",
              "              title=\"Convert this dataframe to an interactive table.\"\n",
              "              style=\"display:none;\">\n",
              "        \n",
              "  <svg xmlns=\"http://www.w3.org/2000/svg\" height=\"24px\"viewBox=\"0 0 24 24\"\n",
              "       width=\"24px\">\n",
              "    <path d=\"M0 0h24v24H0V0z\" fill=\"none\"/>\n",
              "    <path d=\"M18.56 5.44l.94 2.06.94-2.06 2.06-.94-2.06-.94-.94-2.06-.94 2.06-2.06.94zm-11 1L8.5 8.5l.94-2.06 2.06-.94-2.06-.94L8.5 2.5l-.94 2.06-2.06.94zm10 10l.94 2.06.94-2.06 2.06-.94-2.06-.94-.94-2.06-.94 2.06-2.06.94z\"/><path d=\"M17.41 7.96l-1.37-1.37c-.4-.4-.92-.59-1.43-.59-.52 0-1.04.2-1.43.59L10.3 9.45l-7.72 7.72c-.78.78-.78 2.05 0 2.83L4 21.41c.39.39.9.59 1.41.59.51 0 1.02-.2 1.41-.59l7.78-7.78 2.81-2.81c.8-.78.8-2.07 0-2.86zM5.41 20L4 18.59l7.72-7.72 1.47 1.35L5.41 20z\"/>\n",
              "  </svg>\n",
              "      </button>\n",
              "      \n",
              "  <style>\n",
              "    .colab-df-container {\n",
              "      display:flex;\n",
              "      flex-wrap:wrap;\n",
              "      gap: 12px;\n",
              "    }\n",
              "\n",
              "    .colab-df-convert {\n",
              "      background-color: #E8F0FE;\n",
              "      border: none;\n",
              "      border-radius: 50%;\n",
              "      cursor: pointer;\n",
              "      display: none;\n",
              "      fill: #1967D2;\n",
              "      height: 32px;\n",
              "      padding: 0 0 0 0;\n",
              "      width: 32px;\n",
              "    }\n",
              "\n",
              "    .colab-df-convert:hover {\n",
              "      background-color: #E2EBFA;\n",
              "      box-shadow: 0px 1px 2px rgba(60, 64, 67, 0.3), 0px 1px 3px 1px rgba(60, 64, 67, 0.15);\n",
              "      fill: #174EA6;\n",
              "    }\n",
              "\n",
              "    [theme=dark] .colab-df-convert {\n",
              "      background-color: #3B4455;\n",
              "      fill: #D2E3FC;\n",
              "    }\n",
              "\n",
              "    [theme=dark] .colab-df-convert:hover {\n",
              "      background-color: #434B5C;\n",
              "      box-shadow: 0px 1px 3px 1px rgba(0, 0, 0, 0.15);\n",
              "      filter: drop-shadow(0px 1px 2px rgba(0, 0, 0, 0.3));\n",
              "      fill: #FFFFFF;\n",
              "    }\n",
              "  </style>\n",
              "\n",
              "      <script>\n",
              "        const buttonEl =\n",
              "          document.querySelector('#df-77337907-e0fc-4533-aad7-f7f707a9be23 button.colab-df-convert');\n",
              "        buttonEl.style.display =\n",
              "          google.colab.kernel.accessAllowed ? 'block' : 'none';\n",
              "\n",
              "        async function convertToInteractive(key) {\n",
              "          const element = document.querySelector('#df-77337907-e0fc-4533-aad7-f7f707a9be23');\n",
              "          const dataTable =\n",
              "            await google.colab.kernel.invokeFunction('convertToInteractive',\n",
              "                                                     [key], {});\n",
              "          if (!dataTable) return;\n",
              "\n",
              "          const docLinkHtml = 'Like what you see? Visit the ' +\n",
              "            '<a target=\"_blank\" href=https://colab.research.google.com/notebooks/data_table.ipynb>data table notebook</a>'\n",
              "            + ' to learn more about interactive tables.';\n",
              "          element.innerHTML = '';\n",
              "          dataTable['output_type'] = 'display_data';\n",
              "          await google.colab.output.renderOutput(dataTable, element);\n",
              "          const docLink = document.createElement('div');\n",
              "          docLink.innerHTML = docLinkHtml;\n",
              "          element.appendChild(docLink);\n",
              "        }\n",
              "      </script>\n",
              "    </div>\n",
              "  </div>\n",
              "  "
            ]
          },
          "metadata": {},
          "execution_count": 39
        }
      ]
    },
    {
      "cell_type": "code",
      "source": [
        "test_scaled.head()"
      ],
      "metadata": {
        "id": "ADb_3Iu0wSrI",
        "outputId": "0f44acb8-3cd5-4d51-fead-a77b31bdc180",
        "colab": {
          "base_uri": "https://localhost:8080/",
          "height": 299
        }
      },
      "execution_count": 40,
      "outputs": [
        {
          "output_type": "execute_result",
          "data": {
            "text/plain": [
              "    vsw_6hr  SymH_3hr   vsw_3hr    By_1hr    Bx_1hr  SymH_1hr   vsw_1hr  \\\n",
              "0 -0.942293  0.546537 -0.982596 -0.508180  0.574957  0.394426 -1.065648   \n",
              "1 -1.175979  0.584916 -1.259141 -0.041812 -0.550152  0.540120 -1.272002   \n",
              "2 -0.782588  0.495363 -0.838648  0.548372 -0.646355 -0.069144 -0.842226   \n",
              "3 -0.050365 -1.282907 -0.486630 -0.287607 -1.366075 -1.221448 -0.323081   \n",
              "4 -0.448843  0.584916 -0.583099 -0.775070  0.098059  0.314957 -0.524832   \n",
              "\n",
              "    psw_1hr  Bz_45min  By_45min  ...  Bz_10min  By_10min  Bx_10min  AL_10min  \\\n",
              "0 -0.414340 -0.136646 -0.342297  ... -0.049675 -0.244090  0.684440  0.604767   \n",
              "1 -0.004581 -0.238663 -0.190565  ... -0.299526 -0.151094 -0.540448  0.737395   \n",
              "2 -0.177825 -1.128677  0.858252  ... -1.249665  0.972838 -0.218580  0.508310   \n",
              "3 -0.114553 -1.445283 -0.147973  ... -0.493073  0.558338 -1.330218 -3.012359   \n",
              "4 -0.897917  0.039247 -0.741593  ...  0.091087 -0.706417 -0.045724  0.604767   \n",
              "\n",
              "   AU_10min  SymH_10min  PC_10min  vsw_10min  psw_10min      Year  \n",
              "0 -0.781993    0.450709 -0.439715  -1.071099  -0.532354 -0.071161  \n",
              "1 -0.916588    0.611679 -0.171382  -1.270046  -0.064307  0.394572  \n",
              "2 -0.624966   -0.434628  0.537019  -0.816631  -0.558847  0.627438  \n",
              "3  5.162592   -0.998025  4.121952  -0.277622  -0.117293 -1.468359  \n",
              "4 -0.692264    0.209253 -0.654382  -0.606117  -0.832610  1.558904  \n",
              "\n",
              "[5 rows x 33 columns]"
            ],
            "text/html": [
              "\n",
              "  <div id=\"df-863be1e5-7283-45c4-99bc-a7abe4c8f403\">\n",
              "    <div class=\"colab-df-container\">\n",
              "      <div>\n",
              "<style scoped>\n",
              "    .dataframe tbody tr th:only-of-type {\n",
              "        vertical-align: middle;\n",
              "    }\n",
              "\n",
              "    .dataframe tbody tr th {\n",
              "        vertical-align: top;\n",
              "    }\n",
              "\n",
              "    .dataframe thead th {\n",
              "        text-align: right;\n",
              "    }\n",
              "</style>\n",
              "<table border=\"1\" class=\"dataframe\">\n",
              "  <thead>\n",
              "    <tr style=\"text-align: right;\">\n",
              "      <th></th>\n",
              "      <th>vsw_6hr</th>\n",
              "      <th>SymH_3hr</th>\n",
              "      <th>vsw_3hr</th>\n",
              "      <th>By_1hr</th>\n",
              "      <th>Bx_1hr</th>\n",
              "      <th>SymH_1hr</th>\n",
              "      <th>vsw_1hr</th>\n",
              "      <th>psw_1hr</th>\n",
              "      <th>Bz_45min</th>\n",
              "      <th>By_45min</th>\n",
              "      <th>...</th>\n",
              "      <th>Bz_10min</th>\n",
              "      <th>By_10min</th>\n",
              "      <th>Bx_10min</th>\n",
              "      <th>AL_10min</th>\n",
              "      <th>AU_10min</th>\n",
              "      <th>SymH_10min</th>\n",
              "      <th>PC_10min</th>\n",
              "      <th>vsw_10min</th>\n",
              "      <th>psw_10min</th>\n",
              "      <th>Year</th>\n",
              "    </tr>\n",
              "  </thead>\n",
              "  <tbody>\n",
              "    <tr>\n",
              "      <th>0</th>\n",
              "      <td>-0.942293</td>\n",
              "      <td>0.546537</td>\n",
              "      <td>-0.982596</td>\n",
              "      <td>-0.508180</td>\n",
              "      <td>0.574957</td>\n",
              "      <td>0.394426</td>\n",
              "      <td>-1.065648</td>\n",
              "      <td>-0.414340</td>\n",
              "      <td>-0.136646</td>\n",
              "      <td>-0.342297</td>\n",
              "      <td>...</td>\n",
              "      <td>-0.049675</td>\n",
              "      <td>-0.244090</td>\n",
              "      <td>0.684440</td>\n",
              "      <td>0.604767</td>\n",
              "      <td>-0.781993</td>\n",
              "      <td>0.450709</td>\n",
              "      <td>-0.439715</td>\n",
              "      <td>-1.071099</td>\n",
              "      <td>-0.532354</td>\n",
              "      <td>-0.071161</td>\n",
              "    </tr>\n",
              "    <tr>\n",
              "      <th>1</th>\n",
              "      <td>-1.175979</td>\n",
              "      <td>0.584916</td>\n",
              "      <td>-1.259141</td>\n",
              "      <td>-0.041812</td>\n",
              "      <td>-0.550152</td>\n",
              "      <td>0.540120</td>\n",
              "      <td>-1.272002</td>\n",
              "      <td>-0.004581</td>\n",
              "      <td>-0.238663</td>\n",
              "      <td>-0.190565</td>\n",
              "      <td>...</td>\n",
              "      <td>-0.299526</td>\n",
              "      <td>-0.151094</td>\n",
              "      <td>-0.540448</td>\n",
              "      <td>0.737395</td>\n",
              "      <td>-0.916588</td>\n",
              "      <td>0.611679</td>\n",
              "      <td>-0.171382</td>\n",
              "      <td>-1.270046</td>\n",
              "      <td>-0.064307</td>\n",
              "      <td>0.394572</td>\n",
              "    </tr>\n",
              "    <tr>\n",
              "      <th>2</th>\n",
              "      <td>-0.782588</td>\n",
              "      <td>0.495363</td>\n",
              "      <td>-0.838648</td>\n",
              "      <td>0.548372</td>\n",
              "      <td>-0.646355</td>\n",
              "      <td>-0.069144</td>\n",
              "      <td>-0.842226</td>\n",
              "      <td>-0.177825</td>\n",
              "      <td>-1.128677</td>\n",
              "      <td>0.858252</td>\n",
              "      <td>...</td>\n",
              "      <td>-1.249665</td>\n",
              "      <td>0.972838</td>\n",
              "      <td>-0.218580</td>\n",
              "      <td>0.508310</td>\n",
              "      <td>-0.624966</td>\n",
              "      <td>-0.434628</td>\n",
              "      <td>0.537019</td>\n",
              "      <td>-0.816631</td>\n",
              "      <td>-0.558847</td>\n",
              "      <td>0.627438</td>\n",
              "    </tr>\n",
              "    <tr>\n",
              "      <th>3</th>\n",
              "      <td>-0.050365</td>\n",
              "      <td>-1.282907</td>\n",
              "      <td>-0.486630</td>\n",
              "      <td>-0.287607</td>\n",
              "      <td>-1.366075</td>\n",
              "      <td>-1.221448</td>\n",
              "      <td>-0.323081</td>\n",
              "      <td>-0.114553</td>\n",
              "      <td>-1.445283</td>\n",
              "      <td>-0.147973</td>\n",
              "      <td>...</td>\n",
              "      <td>-0.493073</td>\n",
              "      <td>0.558338</td>\n",
              "      <td>-1.330218</td>\n",
              "      <td>-3.012359</td>\n",
              "      <td>5.162592</td>\n",
              "      <td>-0.998025</td>\n",
              "      <td>4.121952</td>\n",
              "      <td>-0.277622</td>\n",
              "      <td>-0.117293</td>\n",
              "      <td>-1.468359</td>\n",
              "    </tr>\n",
              "    <tr>\n",
              "      <th>4</th>\n",
              "      <td>-0.448843</td>\n",
              "      <td>0.584916</td>\n",
              "      <td>-0.583099</td>\n",
              "      <td>-0.775070</td>\n",
              "      <td>0.098059</td>\n",
              "      <td>0.314957</td>\n",
              "      <td>-0.524832</td>\n",
              "      <td>-0.897917</td>\n",
              "      <td>0.039247</td>\n",
              "      <td>-0.741593</td>\n",
              "      <td>...</td>\n",
              "      <td>0.091087</td>\n",
              "      <td>-0.706417</td>\n",
              "      <td>-0.045724</td>\n",
              "      <td>0.604767</td>\n",
              "      <td>-0.692264</td>\n",
              "      <td>0.209253</td>\n",
              "      <td>-0.654382</td>\n",
              "      <td>-0.606117</td>\n",
              "      <td>-0.832610</td>\n",
              "      <td>1.558904</td>\n",
              "    </tr>\n",
              "  </tbody>\n",
              "</table>\n",
              "<p>5 rows × 33 columns</p>\n",
              "</div>\n",
              "      <button class=\"colab-df-convert\" onclick=\"convertToInteractive('df-863be1e5-7283-45c4-99bc-a7abe4c8f403')\"\n",
              "              title=\"Convert this dataframe to an interactive table.\"\n",
              "              style=\"display:none;\">\n",
              "        \n",
              "  <svg xmlns=\"http://www.w3.org/2000/svg\" height=\"24px\"viewBox=\"0 0 24 24\"\n",
              "       width=\"24px\">\n",
              "    <path d=\"M0 0h24v24H0V0z\" fill=\"none\"/>\n",
              "    <path d=\"M18.56 5.44l.94 2.06.94-2.06 2.06-.94-2.06-.94-.94-2.06-.94 2.06-2.06.94zm-11 1L8.5 8.5l.94-2.06 2.06-.94-2.06-.94L8.5 2.5l-.94 2.06-2.06.94zm10 10l.94 2.06.94-2.06 2.06-.94-2.06-.94-.94-2.06-.94 2.06-2.06.94z\"/><path d=\"M17.41 7.96l-1.37-1.37c-.4-.4-.92-.59-1.43-.59-.52 0-1.04.2-1.43.59L10.3 9.45l-7.72 7.72c-.78.78-.78 2.05 0 2.83L4 21.41c.39.39.9.59 1.41.59.51 0 1.02-.2 1.41-.59l7.78-7.78 2.81-2.81c.8-.78.8-2.07 0-2.86zM5.41 20L4 18.59l7.72-7.72 1.47 1.35L5.41 20z\"/>\n",
              "  </svg>\n",
              "      </button>\n",
              "      \n",
              "  <style>\n",
              "    .colab-df-container {\n",
              "      display:flex;\n",
              "      flex-wrap:wrap;\n",
              "      gap: 12px;\n",
              "    }\n",
              "\n",
              "    .colab-df-convert {\n",
              "      background-color: #E8F0FE;\n",
              "      border: none;\n",
              "      border-radius: 50%;\n",
              "      cursor: pointer;\n",
              "      display: none;\n",
              "      fill: #1967D2;\n",
              "      height: 32px;\n",
              "      padding: 0 0 0 0;\n",
              "      width: 32px;\n",
              "    }\n",
              "\n",
              "    .colab-df-convert:hover {\n",
              "      background-color: #E2EBFA;\n",
              "      box-shadow: 0px 1px 2px rgba(60, 64, 67, 0.3), 0px 1px 3px 1px rgba(60, 64, 67, 0.15);\n",
              "      fill: #174EA6;\n",
              "    }\n",
              "\n",
              "    [theme=dark] .colab-df-convert {\n",
              "      background-color: #3B4455;\n",
              "      fill: #D2E3FC;\n",
              "    }\n",
              "\n",
              "    [theme=dark] .colab-df-convert:hover {\n",
              "      background-color: #434B5C;\n",
              "      box-shadow: 0px 1px 3px 1px rgba(0, 0, 0, 0.15);\n",
              "      filter: drop-shadow(0px 1px 2px rgba(0, 0, 0, 0.3));\n",
              "      fill: #FFFFFF;\n",
              "    }\n",
              "  </style>\n",
              "\n",
              "      <script>\n",
              "        const buttonEl =\n",
              "          document.querySelector('#df-863be1e5-7283-45c4-99bc-a7abe4c8f403 button.colab-df-convert');\n",
              "        buttonEl.style.display =\n",
              "          google.colab.kernel.accessAllowed ? 'block' : 'none';\n",
              "\n",
              "        async function convertToInteractive(key) {\n",
              "          const element = document.querySelector('#df-863be1e5-7283-45c4-99bc-a7abe4c8f403');\n",
              "          const dataTable =\n",
              "            await google.colab.kernel.invokeFunction('convertToInteractive',\n",
              "                                                     [key], {});\n",
              "          if (!dataTable) return;\n",
              "\n",
              "          const docLinkHtml = 'Like what you see? Visit the ' +\n",
              "            '<a target=\"_blank\" href=https://colab.research.google.com/notebooks/data_table.ipynb>data table notebook</a>'\n",
              "            + ' to learn more about interactive tables.';\n",
              "          element.innerHTML = '';\n",
              "          dataTable['output_type'] = 'display_data';\n",
              "          await google.colab.output.renderOutput(dataTable, element);\n",
              "          const docLink = document.createElement('div');\n",
              "          docLink.innerHTML = docLinkHtml;\n",
              "          element.appendChild(docLink);\n",
              "        }\n",
              "      </script>\n",
              "    </div>\n",
              "  </div>\n",
              "  "
            ]
          },
          "metadata": {},
          "execution_count": 40
        }
      ]
    },
    {
      "cell_type": "markdown",
      "source": [
        "## Save the standarascaler trained data"
      ],
      "metadata": {
        "id": "ttl_pgHLxDrO"
      }
    },
    {
      "cell_type": "code",
      "source": [
        "from joblib import dump\n",
        "sc_filename = \"standardscaler.bin\"\n",
        "sc_path = os.path.join(path_dir,sc_filename)\n",
        "print(sc_path)\n",
        "dump(sc,sc_path)"
      ],
      "metadata": {
        "id": "tLAG9_51wfCe",
        "outputId": "cf1a3b89-f472-4e68-bf35-b82dce4a2741",
        "colab": {
          "base_uri": "https://localhost:8080/"
        }
      },
      "execution_count": 42,
      "outputs": [
        {
          "output_type": "stream",
          "name": "stdout",
          "text": [
            "/content/drive/MyDrive/TMLC/DMSP Particle Precipitate Flux Prediction/standardscaler.bin\n"
          ]
        },
        {
          "output_type": "execute_result",
          "data": {
            "text/plain": [
              "['/content/drive/MyDrive/TMLC/DMSP Particle Precipitate Flux Prediction/standardscaler.bin']"
            ]
          },
          "metadata": {},
          "execution_count": 42
        }
      ]
    },
    {
      "cell_type": "markdown",
      "source": [
        "## Import Keras packages"
      ],
      "metadata": {
        "id": "bQwX5EThzi12"
      }
    },
    {
      "cell_type": "code",
      "source": [
        "import tensorflow as tf\n",
        "from tensorflow import keras\n",
        "from tensorflow.keras.models import Sequential\n",
        "from tensorflow.keras.layers import Dense,Dropout\n",
        "from tensorflow.keras.callbacks import ReduceLROnPlateau"
      ],
      "metadata": {
        "id": "OzFe18JLzpZa"
      },
      "execution_count": 41,
      "outputs": []
    },
    {
      "cell_type": "code",
      "source": [
        "callbacks = ReduceLROnPlateau(monitor='val_loss',\n",
        "                              factor=0.1,\n",
        "                              patience=5,\n",
        "                              verbose=1,\n",
        "                              mode=\"auto\",\n",
        "                              min_lr=0.001)"
      ],
      "metadata": {
        "id": "RaJTqmkv0lIS"
      },
      "execution_count": 42,
      "outputs": []
    },
    {
      "cell_type": "markdown",
      "source": [
        "## Create Model"
      ],
      "metadata": {
        "id": "8VCpuPz509X-"
      }
    },
    {
      "cell_type": "code",
      "source": [
        "def create_model():\n",
        "  model = Sequential()\n",
        "  model.add(Dense(256, input_dim=33, activation= 'relu' ))\n",
        "  model.add(Dense(256, activation= 'relu'))\n",
        "  model.add(Dropout(0.3)),\n",
        "  model.add(Dense(256,  activation= 'relu' ))\n",
        "  model.add(Dropout(0.3)),\n",
        "  model.add(Dense(1,  activation= 'linear' ))\n",
        "  #compile the model \n",
        "  model.compile(loss='mean_absolute_error', optimizer='adam', metrics=['mean_absolute_error'])\n",
        "  return model"
      ],
      "metadata": {
        "id": "lieD6ANj0oDx"
      },
      "execution_count": 52,
      "outputs": []
    },
    {
      "cell_type": "code",
      "source": [
        "model = create_model()"
      ],
      "metadata": {
        "id": "eS4oGWWk08d6"
      },
      "execution_count": 53,
      "outputs": []
    },
    {
      "cell_type": "code",
      "source": [
        "model.summary()"
      ],
      "metadata": {
        "id": "fyxyriux1Csr",
        "outputId": "494f7f6a-9f97-4901-d0a0-07303bc99126",
        "colab": {
          "base_uri": "https://localhost:8080/"
        }
      },
      "execution_count": 54,
      "outputs": [
        {
          "output_type": "stream",
          "name": "stdout",
          "text": [
            "Model: \"sequential_2\"\n",
            "_________________________________________________________________\n",
            " Layer (type)                Output Shape              Param #   \n",
            "=================================================================\n",
            " dense_8 (Dense)             (None, 256)               8704      \n",
            "                                                                 \n",
            " dense_9 (Dense)             (None, 256)               65792     \n",
            "                                                                 \n",
            " dropout_4 (Dropout)         (None, 256)               0         \n",
            "                                                                 \n",
            " dense_10 (Dense)            (None, 256)               65792     \n",
            "                                                                 \n",
            " dropout_5 (Dropout)         (None, 256)               0         \n",
            "                                                                 \n",
            " dense_11 (Dense)            (None, 1)                 257       \n",
            "                                                                 \n",
            "=================================================================\n",
            "Total params: 140,545\n",
            "Trainable params: 140,545\n",
            "Non-trainable params: 0\n",
            "_________________________________________________________________\n"
          ]
        }
      ]
    },
    {
      "cell_type": "markdown",
      "source": [
        "## Train the Model"
      ],
      "metadata": {
        "id": "5XKWGUSY1V-d"
      }
    },
    {
      "cell_type": "code",
      "source": [
        "history = model.fit(X_train_scaled, y_train, validation_data = (X_test_scaled,y_test),epochs=15, batch_size=40)"
      ],
      "metadata": {
        "id": "4zv6pmLt1UwP",
        "outputId": "859768ed-f182-43ce-f88f-65b8ffbd7cdf",
        "colab": {
          "base_uri": "https://localhost:8080/"
        }
      },
      "execution_count": 55,
      "outputs": [
        {
          "metadata": {
            "tags": null
          },
          "name": "stdout",
          "output_type": "stream",
          "text": [
            "Epoch 1/15\n",
            "36484/36484 [==============================] - 154s 4ms/step - loss: 43679567872.0000 - mean_absolute_error: 43679567872.0000 - val_loss: 42980958208.0000 - val_mean_absolute_error: 42980958208.0000\n",
            "Epoch 2/15\n",
            "36484/36484 [==============================] - 152s 4ms/step - loss: 43672432640.0000 - mean_absolute_error: 43672432640.0000 - val_loss: 42979983360.0000 - val_mean_absolute_error: 42979983360.0000\n",
            "Epoch 3/15\n",
            "36484/36484 [==============================] - 169s 5ms/step - loss: 43671568384.0000 - mean_absolute_error: 43671568384.0000 - val_loss: 42979586048.0000 - val_mean_absolute_error: 42979586048.0000\n",
            "Epoch 4/15\n",
            "36484/36484 [==============================] - 150s 4ms/step - loss: 43671502848.0000 - mean_absolute_error: 43671502848.0000 - val_loss: 42979303424.0000 - val_mean_absolute_error: 42979303424.0000\n",
            "Epoch 5/15\n",
            "36484/36484 [==============================] - 149s 4ms/step - loss: 43671080960.0000 - mean_absolute_error: 43671080960.0000 - val_loss: 42979024896.0000 - val_mean_absolute_error: 42979024896.0000\n",
            "Epoch 6/15\n",
            "36484/36484 [==============================] - 149s 4ms/step - loss: 43670896640.0000 - mean_absolute_error: 43670896640.0000 - val_loss: 42978799616.0000 - val_mean_absolute_error: 42978799616.0000\n",
            "Epoch 7/15\n",
            "36484/36484 [==============================] - 168s 5ms/step - loss: 43670646784.0000 - mean_absolute_error: 43670646784.0000 - val_loss: 42978369536.0000 - val_mean_absolute_error: 42978369536.0000\n",
            "Epoch 8/15\n",
            "36484/36484 [==============================] - 169s 5ms/step - loss: 43670179840.0000 - mean_absolute_error: 43670179840.0000 - val_loss: 42978222080.0000 - val_mean_absolute_error: 42978222080.0000\n",
            "Epoch 9/15\n",
            "36484/36484 [==============================] - 168s 5ms/step - loss: 43669962752.0000 - mean_absolute_error: 43669962752.0000 - val_loss: 42978033664.0000 - val_mean_absolute_error: 42978033664.0000\n",
            "Epoch 10/15\n",
            "36484/36484 [==============================] - 149s 4ms/step - loss: 43670114304.0000 - mean_absolute_error: 43670114304.0000 - val_loss: 42977984512.0000 - val_mean_absolute_error: 42977984512.0000\n",
            "Epoch 11/15\n",
            "36484/36484 [==============================] - 149s 4ms/step - loss: 43670093824.0000 - mean_absolute_error: 43670093824.0000 - val_loss: 42977939456.0000 - val_mean_absolute_error: 42977939456.0000\n",
            "Epoch 12/15\n",
            "36484/36484 [==============================] - 148s 4ms/step - loss: 43670044672.0000 - mean_absolute_error: 43670044672.0000 - val_loss: 42977837056.0000 - val_mean_absolute_error: 42977837056.0000\n",
            "Epoch 13/15\n",
            "36484/36484 [==============================] - 145s 4ms/step - loss: 43669901312.0000 - mean_absolute_error: 43669901312.0000 - val_loss: 42977845248.0000 - val_mean_absolute_error: 42977845248.0000\n",
            "Epoch 14/15\n",
            "36484/36484 [==============================] - 148s 4ms/step - loss: 43669999616.0000 - mean_absolute_error: 43669999616.0000 - val_loss: 42977853440.0000 - val_mean_absolute_error: 42977853440.0000\n",
            "Epoch 15/15\n",
            "36484/36484 [==============================] - 153s 4ms/step - loss: 43669864448.0000 - mean_absolute_error: 43669864448.0000 - val_loss: 42977771520.0000 - val_mean_absolute_error: 42977771520.0000\n"
          ]
        }
      ]
    },
    {
      "cell_type": "code",
      "source": [
        " plt.plot(history.history['loss']) \n",
        "plt.plot(history.history['val_loss']) \n",
        "plt.title('Model loss') \n",
        "plt.ylabel('Loss') \n",
        "plt.xlabel('Epoch') \n",
        "plt.legend(['Train', 'Test'], loc='upper left') \n",
        "plt.show()"
      ],
      "metadata": {
        "id": "_ooqIIz8EYQu",
        "outputId": "7daefcd8-98b1-4c5a-a6e2-6fbd399a43c0",
        "colab": {
          "base_uri": "https://localhost:8080/",
          "height": 295
        }
      },
      "execution_count": 56,
      "outputs": [
        {
          "output_type": "display_data",
          "data": {
            "text/plain": [
              "<Figure size 432x288 with 1 Axes>"
            ],
            "image/png": "[encoded data removed]"
          },
          "metadata": {
            "needs_background": "light"
          }
        }
      ]
    },
    {
      "cell_type": "code",
      "source": [
        "from sklearn.metrics import mean_squared_error\n",
        "y_pred = model.predict(X_test_scaled, batch_size=1, verbose=1)"
      ],
      "metadata": {
        "id": "TatmMZ9zeSZP",
        "outputId": "a9b086ce-69ae-4769-d1ba-0221801c1009",
        "colab": {
          "base_uri": "https://localhost:8080/"
        }
      },
      "execution_count": null,
      "outputs": [
        {
          "output_type": "stream",
          "name": "stdout",
          "text": [
            "266006/486448 [===============>..............] - ETA: 6:56"
          ]
        }
      ]
    }
  ]
}