{
  "nbformat": 4,
  "nbformat_minor": 0,
  "metadata": {
    "colab": {
      "name": " DMSP Particle Precipitate Flux Prediction.ipynb",
      "provenance": [],
      "authorship_tag": "ABX9TyO4d9oD3GgNrBKiYw8zz3V7",
      "include_colab_link": true
    },
    "kernelspec": {
      "name": "python3",
      "display_name": "Python 3"
    },
    "language_info": {
      "name": "python"
    },
    "accelerator": "GPU"
  },
  "cells": [
    {
      "cell_type": "markdown",
      "metadata": {
        "id": "view-in-github",
        "colab_type": "text"
      },
      "source": [
        "<a href=\"https://colab.research.google.com/github/plaban1981/TMLC/blob/main/DMSP_Particle_Precipitate_Flux_Prediction.ipynb\" target=\"_parent\"><img src=\"https://colab.research.google.com/assets/colab-badge.svg\" alt=\"Open In Colab\"/></a>"
      ]
    },
    {
      "cell_type": "code",
      "source": [
        "from google.colab import drive\n",
        "drive.mount(\"/content/drive\")"
      ],
      "metadata": {
        "id": "UHCjK5H_E5Jn",
        "colab": {
          "base_uri": "https://localhost:8080/"
        },
        "outputId": "b131abef-2baf-4c92-f681-7b3af2969d7f"
      },
      "execution_count": 1,
      "outputs": [
        {
          "output_type": "stream",
          "name": "stdout",
          "text": [
            "Mounted at /content/drive\n"
          ]
        }
      ]
    },
    {
      "cell_type": "code",
      "source": [
        "import pandas as pd\n",
        "import numpy as np\n",
        "import matplotlib.pyplot as plt\n",
        "import seaborn as sns\n",
        "import os "
      ],
      "metadata": {
        "id": "KqIBj3t_1mRb"
      },
      "execution_count": 1,
      "outputs": []
    },
    {
      "cell_type": "code",
      "source": [
        "path_dir = \"/content/drive/MyDrive/TMLC/DMSP Particle Precipitate Flux Prediction\"\n",
        "file_name = \"AI_Ready_DMSP_Data.csv\"\n",
        "file_path = os.path.join(path_dir,file_name)\n",
        "print(file_path)"
      ],
      "metadata": {
        "colab": {
          "base_uri": "https://localhost:8080/"
        },
        "id": "scJoXpuPT3Zx",
        "outputId": "8c87dfe4-ad38-4720-81f6-84c114af9c63"
      },
      "execution_count": 2,
      "outputs": [
        {
          "output_type": "stream",
          "name": "stdout",
          "text": [
            "/content/drive/MyDrive/TMLC/DMSP Particle Precipitate Flux Prediction/AI_Ready_DMSP_Data.csv\n"
          ]
        }
      ]
    },
    {
      "cell_type": "code",
      "source": [
        "df = pd.read_csv(file_path)\n",
        "df.head()"
      ],
      "metadata": {
        "colab": {
          "base_uri": "https://localhost:8080/",
          "height": 473
        },
        "id": "aBrMoSmcZsjo",
        "outputId": "7641e962-8a78-4164-cf36-4718ad5552b4"
      },
      "execution_count": 3,
      "outputs": [
        {
          "output_type": "execute_result",
          "data": {
            "text/plain": [
              "             Datetimes  SC_AACGM_LAT  SC_AACGM_LTIME  ELE_TOTAL_ENERGY_FLUX  \\\n",
              "0  1987-01-12 12:57:00     51.143220        5.664024           2.057827e+08   \n",
              "1  1987-01-12 12:58:00     54.137207        5.535848           2.509837e+08   \n",
              "2  1987-01-12 13:01:00     62.928176        5.031172           4.469146e+08   \n",
              "3  1987-01-12 13:02:00     65.719631        4.794780           1.934849e+10   \n",
              "4  1987-01-12 13:03:00     68.392364        4.507448           3.913337e+11   \n",
              "\n",
              "   ELE_TOTAL_ENERGY_FLUX_STD  ELE_AVG_ENERGY  ELE_AVG_ENERGY_STD  ID_SC  \\\n",
              "0                   0.411230        39.89341            0.411485    6.0   \n",
              "1                   0.478268        40.82392            0.478568    6.0   \n",
              "2                   0.603362       143.77360            0.604023    6.0   \n",
              "3                   0.103648       820.36560            0.103671    6.0   \n",
              "4                   0.114959      5291.57100            0.114959    6.0   \n",
              "\n",
              "     sin_ut    cos_ut  ...  AE_5min  AL_5min  AU_5min  SymH_5min  PC_5min  \\\n",
              "0 -0.246153 -0.969231  ...     86.0    -61.0     25.0        3.0     0.77   \n",
              "1 -0.250380 -0.968148  ...     86.0    -61.0     25.0        3.0     0.77   \n",
              "2 -0.263031 -0.964787  ...     82.0    -58.0     24.0        3.0     0.77   \n",
              "3 -0.267238 -0.963630  ...     82.0    -58.0     24.0        3.0     0.77   \n",
              "4 -0.271440 -0.962455  ...     82.0    -58.0     24.0        3.0     0.77   \n",
              "\n",
              "   vsw_5min  vx_5min  psw_5min  borovsky_5min  newell_5min  \n",
              "0     356.0   -355.5      2.96   17439.640589  2489.686963  \n",
              "1     356.0   -355.5      2.96   17439.640589  2489.686963  \n",
              "2     354.7   -354.1      3.20   14199.368957  1847.748015  \n",
              "3     354.7   -354.1      3.20   14199.368957  1847.748015  \n",
              "4     354.7   -354.1      3.20   14199.368957  1847.748015  \n",
              "\n",
              "[5 rows x 154 columns]"
            ],
            "text/html": [
              "\n",
              "  <div id=\"df-8f1b523c-6755-490d-ac39-2e7b2bddf64d\">\n",
              "    <div class=\"colab-df-container\">\n",
              "      <div>\n",
              "<style scoped>\n",
              "    .dataframe tbody tr th:only-of-type {\n",
              "        vertical-align: middle;\n",
              "    }\n",
              "\n",
              "    .dataframe tbody tr th {\n",
              "        vertical-align: top;\n",
              "    }\n",
              "\n",
              "    .dataframe thead th {\n",
              "        text-align: right;\n",
              "    }\n",
              "</style>\n",
              "<table border=\"1\" class=\"dataframe\">\n",
              "  <thead>\n",
              "    <tr style=\"text-align: right;\">\n",
              "      <th></th>\n",
              "      <th>Datetimes</th>\n",
              "      <th>SC_AACGM_LAT</th>\n",
              "      <th>SC_AACGM_LTIME</th>\n",
              "      <th>ELE_TOTAL_ENERGY_FLUX</th>\n",
              "      <th>ELE_TOTAL_ENERGY_FLUX_STD</th>\n",
              "      <th>ELE_AVG_ENERGY</th>\n",
              "      <th>ELE_AVG_ENERGY_STD</th>\n",
              "      <th>ID_SC</th>\n",
              "      <th>sin_ut</th>\n",
              "      <th>cos_ut</th>\n",
              "      <th>...</th>\n",
              "      <th>AE_5min</th>\n",
              "      <th>AL_5min</th>\n",
              "      <th>AU_5min</th>\n",
              "      <th>SymH_5min</th>\n",
              "      <th>PC_5min</th>\n",
              "      <th>vsw_5min</th>\n",
              "      <th>vx_5min</th>\n",
              "      <th>psw_5min</th>\n",
              "      <th>borovsky_5min</th>\n",
              "      <th>newell_5min</th>\n",
              "    </tr>\n",
              "  </thead>\n",
              "  <tbody>\n",
              "    <tr>\n",
              "      <th>0</th>\n",
              "      <td>1987-01-12 12:57:00</td>\n",
              "      <td>51.143220</td>\n",
              "      <td>5.664024</td>\n",
              "      <td>2.057827e+08</td>\n",
              "      <td>0.411230</td>\n",
              "      <td>39.89341</td>\n",
              "      <td>0.411485</td>\n",
              "      <td>6.0</td>\n",
              "      <td>-0.246153</td>\n",
              "      <td>-0.969231</td>\n",
              "      <td>...</td>\n",
              "      <td>86.0</td>\n",
              "      <td>-61.0</td>\n",
              "      <td>25.0</td>\n",
              "      <td>3.0</td>\n",
              "      <td>0.77</td>\n",
              "      <td>356.0</td>\n",
              "      <td>-355.5</td>\n",
              "      <td>2.96</td>\n",
              "      <td>17439.640589</td>\n",
              "      <td>2489.686963</td>\n",
              "    </tr>\n",
              "    <tr>\n",
              "      <th>1</th>\n",
              "      <td>1987-01-12 12:58:00</td>\n",
              "      <td>54.137207</td>\n",
              "      <td>5.535848</td>\n",
              "      <td>2.509837e+08</td>\n",
              "      <td>0.478268</td>\n",
              "      <td>40.82392</td>\n",
              "      <td>0.478568</td>\n",
              "      <td>6.0</td>\n",
              "      <td>-0.250380</td>\n",
              "      <td>-0.968148</td>\n",
              "      <td>...</td>\n",
              "      <td>86.0</td>\n",
              "      <td>-61.0</td>\n",
              "      <td>25.0</td>\n",
              "      <td>3.0</td>\n",
              "      <td>0.77</td>\n",
              "      <td>356.0</td>\n",
              "      <td>-355.5</td>\n",
              "      <td>2.96</td>\n",
              "      <td>17439.640589</td>\n",
              "      <td>2489.686963</td>\n",
              "    </tr>\n",
              "    <tr>\n",
              "      <th>2</th>\n",
              "      <td>1987-01-12 13:01:00</td>\n",
              "      <td>62.928176</td>\n",
              "      <td>5.031172</td>\n",
              "      <td>4.469146e+08</td>\n",
              "      <td>0.603362</td>\n",
              "      <td>143.77360</td>\n",
              "      <td>0.604023</td>\n",
              "      <td>6.0</td>\n",
              "      <td>-0.263031</td>\n",
              "      <td>-0.964787</td>\n",
              "      <td>...</td>\n",
              "      <td>82.0</td>\n",
              "      <td>-58.0</td>\n",
              "      <td>24.0</td>\n",
              "      <td>3.0</td>\n",
              "      <td>0.77</td>\n",
              "      <td>354.7</td>\n",
              "      <td>-354.1</td>\n",
              "      <td>3.20</td>\n",
              "      <td>14199.368957</td>\n",
              "      <td>1847.748015</td>\n",
              "    </tr>\n",
              "    <tr>\n",
              "      <th>3</th>\n",
              "      <td>1987-01-12 13:02:00</td>\n",
              "      <td>65.719631</td>\n",
              "      <td>4.794780</td>\n",
              "      <td>1.934849e+10</td>\n",
              "      <td>0.103648</td>\n",
              "      <td>820.36560</td>\n",
              "      <td>0.103671</td>\n",
              "      <td>6.0</td>\n",
              "      <td>-0.267238</td>\n",
              "      <td>-0.963630</td>\n",
              "      <td>...</td>\n",
              "      <td>82.0</td>\n",
              "      <td>-58.0</td>\n",
              "      <td>24.0</td>\n",
              "      <td>3.0</td>\n",
              "      <td>0.77</td>\n",
              "      <td>354.7</td>\n",
              "      <td>-354.1</td>\n",
              "      <td>3.20</td>\n",
              "      <td>14199.368957</td>\n",
              "      <td>1847.748015</td>\n",
              "    </tr>\n",
              "    <tr>\n",
              "      <th>4</th>\n",
              "      <td>1987-01-12 13:03:00</td>\n",
              "      <td>68.392364</td>\n",
              "      <td>4.507448</td>\n",
              "      <td>3.913337e+11</td>\n",
              "      <td>0.114959</td>\n",
              "      <td>5291.57100</td>\n",
              "      <td>0.114959</td>\n",
              "      <td>6.0</td>\n",
              "      <td>-0.271440</td>\n",
              "      <td>-0.962455</td>\n",
              "      <td>...</td>\n",
              "      <td>82.0</td>\n",
              "      <td>-58.0</td>\n",
              "      <td>24.0</td>\n",
              "      <td>3.0</td>\n",
              "      <td>0.77</td>\n",
              "      <td>354.7</td>\n",
              "      <td>-354.1</td>\n",
              "      <td>3.20</td>\n",
              "      <td>14199.368957</td>\n",
              "      <td>1847.748015</td>\n",
              "    </tr>\n",
              "  </tbody>\n",
              "</table>\n",
              "<p>5 rows × 154 columns</p>\n",
              "</div>\n",
              "      <button class=\"colab-df-convert\" onclick=\"convertToInteractive('df-8f1b523c-6755-490d-ac39-2e7b2bddf64d')\"\n",
              "              title=\"Convert this dataframe to an interactive table.\"\n",
              "              style=\"display:none;\">\n",
              "        \n",
              "  <svg xmlns=\"http://www.w3.org/2000/svg\" height=\"24px\"viewBox=\"0 0 24 24\"\n",
              "       width=\"24px\">\n",
              "    <path d=\"M0 0h24v24H0V0z\" fill=\"none\"/>\n",
              "    <path d=\"M18.56 5.44l.94 2.06.94-2.06 2.06-.94-2.06-.94-.94-2.06-.94 2.06-2.06.94zm-11 1L8.5 8.5l.94-2.06 2.06-.94-2.06-.94L8.5 2.5l-.94 2.06-2.06.94zm10 10l.94 2.06.94-2.06 2.06-.94-2.06-.94-.94-2.06-.94 2.06-2.06.94z\"/><path d=\"M17.41 7.96l-1.37-1.37c-.4-.4-.92-.59-1.43-.59-.52 0-1.04.2-1.43.59L10.3 9.45l-7.72 7.72c-.78.78-.78 2.05 0 2.83L4 21.41c.39.39.9.59 1.41.59.51 0 1.02-.2 1.41-.59l7.78-7.78 2.81-2.81c.8-.78.8-2.07 0-2.86zM5.41 20L4 18.59l7.72-7.72 1.47 1.35L5.41 20z\"/>\n",
              "  </svg>\n",
              "      </button>\n",
              "      \n",
              "  <style>\n",
              "    .colab-df-container {\n",
              "      display:flex;\n",
              "      flex-wrap:wrap;\n",
              "      gap: 12px;\n",
              "    }\n",
              "\n",
              "    .colab-df-convert {\n",
              "      background-color: #E8F0FE;\n",
              "      border: none;\n",
              "      border-radius: 50%;\n",
              "      cursor: pointer;\n",
              "      display: none;\n",
              "      fill: #1967D2;\n",
              "      height: 32px;\n",
              "      padding: 0 0 0 0;\n",
              "      width: 32px;\n",
              "    }\n",
              "\n",
              "    .colab-df-convert:hover {\n",
              "      background-color: #E2EBFA;\n",
              "      box-shadow: 0px 1px 2px rgba(60, 64, 67, 0.3), 0px 1px 3px 1px rgba(60, 64, 67, 0.15);\n",
              "      fill: #174EA6;\n",
              "    }\n",
              "\n",
              "    [theme=dark] .colab-df-convert {\n",
              "      background-color: #3B4455;\n",
              "      fill: #D2E3FC;\n",
              "    }\n",
              "\n",
              "    [theme=dark] .colab-df-convert:hover {\n",
              "      background-color: #434B5C;\n",
              "      box-shadow: 0px 1px 3px 1px rgba(0, 0, 0, 0.15);\n",
              "      filter: drop-shadow(0px 1px 2px rgba(0, 0, 0, 0.3));\n",
              "      fill: #FFFFFF;\n",
              "    }\n",
              "  </style>\n",
              "\n",
              "      <script>\n",
              "        const buttonEl =\n",
              "          document.querySelector('#df-8f1b523c-6755-490d-ac39-2e7b2bddf64d button.colab-df-convert');\n",
              "        buttonEl.style.display =\n",
              "          google.colab.kernel.accessAllowed ? 'block' : 'none';\n",
              "\n",
              "        async function convertToInteractive(key) {\n",
              "          const element = document.querySelector('#df-8f1b523c-6755-490d-ac39-2e7b2bddf64d');\n",
              "          const dataTable =\n",
              "            await google.colab.kernel.invokeFunction('convertToInteractive',\n",
              "                                                     [key], {});\n",
              "          if (!dataTable) return;\n",
              "\n",
              "          const docLinkHtml = 'Like what you see? Visit the ' +\n",
              "            '<a target=\"_blank\" href=https://colab.research.google.com/notebooks/data_table.ipynb>data table notebook</a>'\n",
              "            + ' to learn more about interactive tables.';\n",
              "          element.innerHTML = '';\n",
              "          dataTable['output_type'] = 'display_data';\n",
              "          await google.colab.output.renderOutput(dataTable, element);\n",
              "          const docLink = document.createElement('div');\n",
              "          docLink.innerHTML = docLinkHtml;\n",
              "          element.appendChild(docLink);\n",
              "        }\n",
              "      </script>\n",
              "    </div>\n",
              "  </div>\n",
              "  "
            ]
          },
          "metadata": {},
          "execution_count": 3
        }
      ]
    },
    {
      "cell_type": "markdown",
      "source": [
        "## Summary Statistics"
      ],
      "metadata": {
        "id": "7OXcnRu5a_xW"
      }
    },
    {
      "cell_type": "code",
      "source": [
        "df.shape"
      ],
      "metadata": {
        "colab": {
          "base_uri": "https://localhost:8080/"
        },
        "id": "Rf2leG-EZyA1",
        "outputId": "baa086f3-a88d-4424-9e57-90156c0d0ef0"
      },
      "execution_count": 4,
      "outputs": [
        {
          "output_type": "execute_result",
          "data": {
            "text/plain": [
              "(1945887, 154)"
            ]
          },
          "metadata": {},
          "execution_count": 4
        }
      ]
    },
    {
      "cell_type": "code",
      "source": [
        "df.info()"
      ],
      "metadata": {
        "colab": {
          "base_uri": "https://localhost:8080/"
        },
        "id": "dx9ey4s1a2rY",
        "outputId": "4cd7e4cc-8e80-4b23-d895-504d7574cb5c"
      },
      "execution_count": 5,
      "outputs": [
        {
          "output_type": "stream",
          "name": "stdout",
          "text": [
            "<class 'pandas.core.frame.DataFrame'>\n",
            "RangeIndex: 1945887 entries, 0 to 1945886\n",
            "Columns: 154 entries, Datetimes to newell_5min\n",
            "dtypes: float64(153), object(1)\n",
            "memory usage: 2.2+ GB\n"
          ]
        }
      ]
    },
    {
      "cell_type": "code",
      "source": [
        "df['Datetimes'].dtypes"
      ],
      "metadata": {
        "colab": {
          "base_uri": "https://localhost:8080/"
        },
        "id": "G1pbqkhjcf5u",
        "outputId": "bc2036f1-b75a-4705-cd1d-a703370db201"
      },
      "execution_count": 6,
      "outputs": [
        {
          "output_type": "execute_result",
          "data": {
            "text/plain": [
              "dtype('O')"
            ]
          },
          "metadata": {},
          "execution_count": 6
        }
      ]
    },
    {
      "cell_type": "markdown",
      "source": [
        "## Check Null Values"
      ],
      "metadata": {
        "id": "M5BXq57v3DYz"
      }
    },
    {
      "cell_type": "code",
      "source": [
        "df.isnull().sum()[df.isnull().sum() > 0]"
      ],
      "metadata": {
        "colab": {
          "base_uri": "https://localhost:8080/"
        },
        "id": "pOdwLWNu284S",
        "outputId": "c09fd308-8659-4a86-f836-1bfe36a1964e"
      },
      "execution_count": 7,
      "outputs": [
        {
          "output_type": "execute_result",
          "data": {
            "text/plain": [
              "Series([], dtype: int64)"
            ]
          },
          "metadata": {},
          "execution_count": 7
        }
      ]
    },
    {
      "cell_type": "code",
      "source": [
        "df['Datetimes'] = pd.to_datetime(df['Datetimes'])"
      ],
      "metadata": {
        "id": "oHW2hTo95_Cg"
      },
      "execution_count": 8,
      "outputs": []
    },
    {
      "cell_type": "code",
      "source": [
        "df.info()"
      ],
      "metadata": {
        "colab": {
          "base_uri": "https://localhost:8080/"
        },
        "id": "JqdkxQgzH_5w",
        "outputId": "29df6f9e-9ba5-41ef-c789-b1a2fa75e76e"
      },
      "execution_count": 9,
      "outputs": [
        {
          "output_type": "stream",
          "name": "stdout",
          "text": [
            "<class 'pandas.core.frame.DataFrame'>\n",
            "RangeIndex: 1945887 entries, 0 to 1945886\n",
            "Columns: 154 entries, Datetimes to newell_5min\n",
            "dtypes: datetime64[ns](1), float64(153)\n",
            "memory usage: 2.2 GB\n"
          ]
        }
      ]
    },
    {
      "cell_type": "code",
      "source": [
        "df.head()"
      ],
      "metadata": {
        "colab": {
          "base_uri": "https://localhost:8080/",
          "height": 473
        },
        "id": "FRk1UL-JRuM1",
        "outputId": "24f4cceb-ae38-4cab-ded1-26d72e684554"
      },
      "execution_count": 10,
      "outputs": [
        {
          "output_type": "execute_result",
          "data": {
            "text/plain": [
              "            Datetimes  SC_AACGM_LAT  SC_AACGM_LTIME  ELE_TOTAL_ENERGY_FLUX  \\\n",
              "0 1987-01-12 12:57:00     51.143220        5.664024           2.057827e+08   \n",
              "1 1987-01-12 12:58:00     54.137207        5.535848           2.509837e+08   \n",
              "2 1987-01-12 13:01:00     62.928176        5.031172           4.469146e+08   \n",
              "3 1987-01-12 13:02:00     65.719631        4.794780           1.934849e+10   \n",
              "4 1987-01-12 13:03:00     68.392364        4.507448           3.913337e+11   \n",
              "\n",
              "   ELE_TOTAL_ENERGY_FLUX_STD  ELE_AVG_ENERGY  ELE_AVG_ENERGY_STD  ID_SC  \\\n",
              "0                   0.411230        39.89341            0.411485    6.0   \n",
              "1                   0.478268        40.82392            0.478568    6.0   \n",
              "2                   0.603362       143.77360            0.604023    6.0   \n",
              "3                   0.103648       820.36560            0.103671    6.0   \n",
              "4                   0.114959      5291.57100            0.114959    6.0   \n",
              "\n",
              "     sin_ut    cos_ut  ...  AE_5min  AL_5min  AU_5min  SymH_5min  PC_5min  \\\n",
              "0 -0.246153 -0.969231  ...     86.0    -61.0     25.0        3.0     0.77   \n",
              "1 -0.250380 -0.968148  ...     86.0    -61.0     25.0        3.0     0.77   \n",
              "2 -0.263031 -0.964787  ...     82.0    -58.0     24.0        3.0     0.77   \n",
              "3 -0.267238 -0.963630  ...     82.0    -58.0     24.0        3.0     0.77   \n",
              "4 -0.271440 -0.962455  ...     82.0    -58.0     24.0        3.0     0.77   \n",
              "\n",
              "   vsw_5min  vx_5min  psw_5min  borovsky_5min  newell_5min  \n",
              "0     356.0   -355.5      2.96   17439.640589  2489.686963  \n",
              "1     356.0   -355.5      2.96   17439.640589  2489.686963  \n",
              "2     354.7   -354.1      3.20   14199.368957  1847.748015  \n",
              "3     354.7   -354.1      3.20   14199.368957  1847.748015  \n",
              "4     354.7   -354.1      3.20   14199.368957  1847.748015  \n",
              "\n",
              "[5 rows x 154 columns]"
            ],
            "text/html": [
              "\n",
              "  <div id=\"df-2c9e6cb9-0f83-495f-8662-1ed4a20fbbce\">\n",
              "    <div class=\"colab-df-container\">\n",
              "      <div>\n",
              "<style scoped>\n",
              "    .dataframe tbody tr th:only-of-type {\n",
              "        vertical-align: middle;\n",
              "    }\n",
              "\n",
              "    .dataframe tbody tr th {\n",
              "        vertical-align: top;\n",
              "    }\n",
              "\n",
              "    .dataframe thead th {\n",
              "        text-align: right;\n",
              "    }\n",
              "</style>\n",
              "<table border=\"1\" class=\"dataframe\">\n",
              "  <thead>\n",
              "    <tr style=\"text-align: right;\">\n",
              "      <th></th>\n",
              "      <th>Datetimes</th>\n",
              "      <th>SC_AACGM_LAT</th>\n",
              "      <th>SC_AACGM_LTIME</th>\n",
              "      <th>ELE_TOTAL_ENERGY_FLUX</th>\n",
              "      <th>ELE_TOTAL_ENERGY_FLUX_STD</th>\n",
              "      <th>ELE_AVG_ENERGY</th>\n",
              "      <th>ELE_AVG_ENERGY_STD</th>\n",
              "      <th>ID_SC</th>\n",
              "      <th>sin_ut</th>\n",
              "      <th>cos_ut</th>\n",
              "      <th>...</th>\n",
              "      <th>AE_5min</th>\n",
              "      <th>AL_5min</th>\n",
              "      <th>AU_5min</th>\n",
              "      <th>SymH_5min</th>\n",
              "      <th>PC_5min</th>\n",
              "      <th>vsw_5min</th>\n",
              "      <th>vx_5min</th>\n",
              "      <th>psw_5min</th>\n",
              "      <th>borovsky_5min</th>\n",
              "      <th>newell_5min</th>\n",
              "    </tr>\n",
              "  </thead>\n",
              "  <tbody>\n",
              "    <tr>\n",
              "      <th>0</th>\n",
              "      <td>1987-01-12 12:57:00</td>\n",
              "      <td>51.143220</td>\n",
              "      <td>5.664024</td>\n",
              "      <td>2.057827e+08</td>\n",
              "      <td>0.411230</td>\n",
              "      <td>39.89341</td>\n",
              "      <td>0.411485</td>\n",
              "      <td>6.0</td>\n",
              "      <td>-0.246153</td>\n",
              "      <td>-0.969231</td>\n",
              "      <td>...</td>\n",
              "      <td>86.0</td>\n",
              "      <td>-61.0</td>\n",
              "      <td>25.0</td>\n",
              "      <td>3.0</td>\n",
              "      <td>0.77</td>\n",
              "      <td>356.0</td>\n",
              "      <td>-355.5</td>\n",
              "      <td>2.96</td>\n",
              "      <td>17439.640589</td>\n",
              "      <td>2489.686963</td>\n",
              "    </tr>\n",
              "    <tr>\n",
              "      <th>1</th>\n",
              "      <td>1987-01-12 12:58:00</td>\n",
              "      <td>54.137207</td>\n",
              "      <td>5.535848</td>\n",
              "      <td>2.509837e+08</td>\n",
              "      <td>0.478268</td>\n",
              "      <td>40.82392</td>\n",
              "      <td>0.478568</td>\n",
              "      <td>6.0</td>\n",
              "      <td>-0.250380</td>\n",
              "      <td>-0.968148</td>\n",
              "      <td>...</td>\n",
              "      <td>86.0</td>\n",
              "      <td>-61.0</td>\n",
              "      <td>25.0</td>\n",
              "      <td>3.0</td>\n",
              "      <td>0.77</td>\n",
              "      <td>356.0</td>\n",
              "      <td>-355.5</td>\n",
              "      <td>2.96</td>\n",
              "      <td>17439.640589</td>\n",
              "      <td>2489.686963</td>\n",
              "    </tr>\n",
              "    <tr>\n",
              "      <th>2</th>\n",
              "      <td>1987-01-12 13:01:00</td>\n",
              "      <td>62.928176</td>\n",
              "      <td>5.031172</td>\n",
              "      <td>4.469146e+08</td>\n",
              "      <td>0.603362</td>\n",
              "      <td>143.77360</td>\n",
              "      <td>0.604023</td>\n",
              "      <td>6.0</td>\n",
              "      <td>-0.263031</td>\n",
              "      <td>-0.964787</td>\n",
              "      <td>...</td>\n",
              "      <td>82.0</td>\n",
              "      <td>-58.0</td>\n",
              "      <td>24.0</td>\n",
              "      <td>3.0</td>\n",
              "      <td>0.77</td>\n",
              "      <td>354.7</td>\n",
              "      <td>-354.1</td>\n",
              "      <td>3.20</td>\n",
              "      <td>14199.368957</td>\n",
              "      <td>1847.748015</td>\n",
              "    </tr>\n",
              "    <tr>\n",
              "      <th>3</th>\n",
              "      <td>1987-01-12 13:02:00</td>\n",
              "      <td>65.719631</td>\n",
              "      <td>4.794780</td>\n",
              "      <td>1.934849e+10</td>\n",
              "      <td>0.103648</td>\n",
              "      <td>820.36560</td>\n",
              "      <td>0.103671</td>\n",
              "      <td>6.0</td>\n",
              "      <td>-0.267238</td>\n",
              "      <td>-0.963630</td>\n",
              "      <td>...</td>\n",
              "      <td>82.0</td>\n",
              "      <td>-58.0</td>\n",
              "      <td>24.0</td>\n",
              "      <td>3.0</td>\n",
              "      <td>0.77</td>\n",
              "      <td>354.7</td>\n",
              "      <td>-354.1</td>\n",
              "      <td>3.20</td>\n",
              "      <td>14199.368957</td>\n",
              "      <td>1847.748015</td>\n",
              "    </tr>\n",
              "    <tr>\n",
              "      <th>4</th>\n",
              "      <td>1987-01-12 13:03:00</td>\n",
              "      <td>68.392364</td>\n",
              "      <td>4.507448</td>\n",
              "      <td>3.913337e+11</td>\n",
              "      <td>0.114959</td>\n",
              "      <td>5291.57100</td>\n",
              "      <td>0.114959</td>\n",
              "      <td>6.0</td>\n",
              "      <td>-0.271440</td>\n",
              "      <td>-0.962455</td>\n",
              "      <td>...</td>\n",
              "      <td>82.0</td>\n",
              "      <td>-58.0</td>\n",
              "      <td>24.0</td>\n",
              "      <td>3.0</td>\n",
              "      <td>0.77</td>\n",
              "      <td>354.7</td>\n",
              "      <td>-354.1</td>\n",
              "      <td>3.20</td>\n",
              "      <td>14199.368957</td>\n",
              "      <td>1847.748015</td>\n",
              "    </tr>\n",
              "  </tbody>\n",
              "</table>\n",
              "<p>5 rows × 154 columns</p>\n",
              "</div>\n",
              "      <button class=\"colab-df-convert\" onclick=\"convertToInteractive('df-2c9e6cb9-0f83-495f-8662-1ed4a20fbbce')\"\n",
              "              title=\"Convert this dataframe to an interactive table.\"\n",
              "              style=\"display:none;\">\n",
              "        \n",
              "  <svg xmlns=\"http://www.w3.org/2000/svg\" height=\"24px\"viewBox=\"0 0 24 24\"\n",
              "       width=\"24px\">\n",
              "    <path d=\"M0 0h24v24H0V0z\" fill=\"none\"/>\n",
              "    <path d=\"M18.56 5.44l.94 2.06.94-2.06 2.06-.94-2.06-.94-.94-2.06-.94 2.06-2.06.94zm-11 1L8.5 8.5l.94-2.06 2.06-.94-2.06-.94L8.5 2.5l-.94 2.06-2.06.94zm10 10l.94 2.06.94-2.06 2.06-.94-2.06-.94-.94-2.06-.94 2.06-2.06.94z\"/><path d=\"M17.41 7.96l-1.37-1.37c-.4-.4-.92-.59-1.43-.59-.52 0-1.04.2-1.43.59L10.3 9.45l-7.72 7.72c-.78.78-.78 2.05 0 2.83L4 21.41c.39.39.9.59 1.41.59.51 0 1.02-.2 1.41-.59l7.78-7.78 2.81-2.81c.8-.78.8-2.07 0-2.86zM5.41 20L4 18.59l7.72-7.72 1.47 1.35L5.41 20z\"/>\n",
              "  </svg>\n",
              "      </button>\n",
              "      \n",
              "  <style>\n",
              "    .colab-df-container {\n",
              "      display:flex;\n",
              "      flex-wrap:wrap;\n",
              "      gap: 12px;\n",
              "    }\n",
              "\n",
              "    .colab-df-convert {\n",
              "      background-color: #E8F0FE;\n",
              "      border: none;\n",
              "      border-radius: 50%;\n",
              "      cursor: pointer;\n",
              "      display: none;\n",
              "      fill: #1967D2;\n",
              "      height: 32px;\n",
              "      padding: 0 0 0 0;\n",
              "      width: 32px;\n",
              "    }\n",
              "\n",
              "    .colab-df-convert:hover {\n",
              "      background-color: #E2EBFA;\n",
              "      box-shadow: 0px 1px 2px rgba(60, 64, 67, 0.3), 0px 1px 3px 1px rgba(60, 64, 67, 0.15);\n",
              "      fill: #174EA6;\n",
              "    }\n",
              "\n",
              "    [theme=dark] .colab-df-convert {\n",
              "      background-color: #3B4455;\n",
              "      fill: #D2E3FC;\n",
              "    }\n",
              "\n",
              "    [theme=dark] .colab-df-convert:hover {\n",
              "      background-color: #434B5C;\n",
              "      box-shadow: 0px 1px 3px 1px rgba(0, 0, 0, 0.15);\n",
              "      filter: drop-shadow(0px 1px 2px rgba(0, 0, 0, 0.3));\n",
              "      fill: #FFFFFF;\n",
              "    }\n",
              "  </style>\n",
              "\n",
              "      <script>\n",
              "        const buttonEl =\n",
              "          document.querySelector('#df-2c9e6cb9-0f83-495f-8662-1ed4a20fbbce button.colab-df-convert');\n",
              "        buttonEl.style.display =\n",
              "          google.colab.kernel.accessAllowed ? 'block' : 'none';\n",
              "\n",
              "        async function convertToInteractive(key) {\n",
              "          const element = document.querySelector('#df-2c9e6cb9-0f83-495f-8662-1ed4a20fbbce');\n",
              "          const dataTable =\n",
              "            await google.colab.kernel.invokeFunction('convertToInteractive',\n",
              "                                                     [key], {});\n",
              "          if (!dataTable) return;\n",
              "\n",
              "          const docLinkHtml = 'Like what you see? Visit the ' +\n",
              "            '<a target=\"_blank\" href=https://colab.research.google.com/notebooks/data_table.ipynb>data table notebook</a>'\n",
              "            + ' to learn more about interactive tables.';\n",
              "          element.innerHTML = '';\n",
              "          dataTable['output_type'] = 'display_data';\n",
              "          await google.colab.output.renderOutput(dataTable, element);\n",
              "          const docLink = document.createElement('div');\n",
              "          docLink.innerHTML = docLinkHtml;\n",
              "          element.appendChild(docLink);\n",
              "        }\n",
              "      </script>\n",
              "    </div>\n",
              "  </div>\n",
              "  "
            ]
          },
          "metadata": {},
          "execution_count": 10
        }
      ]
    },
    {
      "cell_type": "markdown",
      "source": [
        "##Target - ELE_TOTAL_ENERGY_FLUX"
      ],
      "metadata": {
        "id": "RDH-bolYWQMg"
      }
    },
    {
      "cell_type": "code",
      "source": [
        "df['ELE_TOTAL_ENERGY_FLUX'].describe()"
      ],
      "metadata": {
        "colab": {
          "base_uri": "https://localhost:8080/"
        },
        "id": "DqYddywmWBN_",
        "outputId": "eaa04e2e-bbe2-420b-c461-8d91be73bb14"
      },
      "execution_count": 14,
      "outputs": [
        {
          "output_type": "execute_result",
          "data": {
            "text/plain": [
              "count    1.945887e+06\n",
              "mean     3.482163e+11\n",
              "std      9.502920e+13\n",
              "min      2.632692e+06\n",
              "25%      1.695103e+08\n",
              "50%      5.541485e+08\n",
              "75%      1.304165e+10\n",
              "max      5.648257e+16\n",
              "Name: ELE_TOTAL_ENERGY_FLUX, dtype: float64"
            ]
          },
          "metadata": {},
          "execution_count": 14
        }
      ]
    },
    {
      "cell_type": "code",
      "source": [
        "sns.displot(data=df,x='ELE_TOTAL_ENERGY_FLUX',kind=\"kde\")"
      ],
      "metadata": {
        "colab": {
          "base_uri": "https://localhost:8080/",
          "height": 386
        },
        "id": "eaMr2-9eRyUE",
        "outputId": "8cc7f415-64be-4d5c-bcdc-d2f69fb90446"
      },
      "execution_count": 12,
      "outputs": [
        {
          "output_type": "execute_result",
          "data": {
            "text/plain": [
              "<seaborn.axisgrid.FacetGrid at 0x7f8af6a37390>"
            ]
          },
          "metadata": {},
          "execution_count": 12
        },
        {
          "output_type": "display_data",
          "data": {
            "text/plain": [
              "<Figure size 360x360 with 1 Axes>"
            ],
            "image/png": "[encoded data removed]"
          },
          "metadata": {
            "needs_background": "light"
          }
        }
      ]
    },
    {
      "cell_type": "code",
      "source": [
        "df['Datetimes'].dt.day"
      ],
      "metadata": {
        "colab": {
          "base_uri": "https://localhost:8080/"
        },
        "id": "7r_VAeQSZc74",
        "outputId": "43f95b72-7252-40e0-a15a-ec95d58e214e"
      },
      "execution_count": 17,
      "outputs": [
        {
          "output_type": "execute_result",
          "data": {
            "text/plain": [
              "0          12\n",
              "1          12\n",
              "2          12\n",
              "3          12\n",
              "4          12\n",
              "           ..\n",
              "1945882    31\n",
              "1945883    31\n",
              "1945884    31\n",
              "1945885    31\n",
              "1945886    31\n",
              "Name: Datetimes, Length: 1945887, dtype: int64"
            ]
          },
          "metadata": {},
          "execution_count": 17
        }
      ]
    },
    {
      "cell_type": "code",
      "source": [
        "df['Year'] = df['Datetimes'].dt.year\n",
        "df['Month'] = df['Datetimes'].dt.month\n",
        "df['Day'] = df['Datetimes'].dt.day"
      ],
      "metadata": {
        "id": "Ur-TBLQ6R-vd"
      },
      "execution_count": 18,
      "outputs": []
    },
    {
      "cell_type": "code",
      "source": [
        "df.head()"
      ],
      "metadata": {
        "colab": {
          "base_uri": "https://localhost:8080/",
          "height": 473
        },
        "id": "SmvTeyQiaMZ-",
        "outputId": "2da52a4b-6901-4c93-af41-5056b4528363"
      },
      "execution_count": 19,
      "outputs": [
        {
          "output_type": "execute_result",
          "data": {
            "text/plain": [
              "            Datetimes  SC_AACGM_LAT  SC_AACGM_LTIME  ELE_TOTAL_ENERGY_FLUX  \\\n",
              "0 1987-01-12 12:57:00     51.143220        5.664024           2.057827e+08   \n",
              "1 1987-01-12 12:58:00     54.137207        5.535848           2.509837e+08   \n",
              "2 1987-01-12 13:01:00     62.928176        5.031172           4.469146e+08   \n",
              "3 1987-01-12 13:02:00     65.719631        4.794780           1.934849e+10   \n",
              "4 1987-01-12 13:03:00     68.392364        4.507448           3.913337e+11   \n",
              "\n",
              "   ELE_TOTAL_ENERGY_FLUX_STD  ELE_AVG_ENERGY  ELE_AVG_ENERGY_STD  ID_SC  \\\n",
              "0                   0.411230        39.89341            0.411485    6.0   \n",
              "1                   0.478268        40.82392            0.478568    6.0   \n",
              "2                   0.603362       143.77360            0.604023    6.0   \n",
              "3                   0.103648       820.36560            0.103671    6.0   \n",
              "4                   0.114959      5291.57100            0.114959    6.0   \n",
              "\n",
              "     sin_ut    cos_ut  ...  SymH_5min  PC_5min  vsw_5min  vx_5min  psw_5min  \\\n",
              "0 -0.246153 -0.969231  ...        3.0     0.77     356.0   -355.5      2.96   \n",
              "1 -0.250380 -0.968148  ...        3.0     0.77     356.0   -355.5      2.96   \n",
              "2 -0.263031 -0.964787  ...        3.0     0.77     354.7   -354.1      3.20   \n",
              "3 -0.267238 -0.963630  ...        3.0     0.77     354.7   -354.1      3.20   \n",
              "4 -0.271440 -0.962455  ...        3.0     0.77     354.7   -354.1      3.20   \n",
              "\n",
              "   borovsky_5min  newell_5min  Year  Month  Day  \n",
              "0   17439.640589  2489.686963  1987      1   12  \n",
              "1   17439.640589  2489.686963  1987      1   12  \n",
              "2   14199.368957  1847.748015  1987      1   12  \n",
              "3   14199.368957  1847.748015  1987      1   12  \n",
              "4   14199.368957  1847.748015  1987      1   12  \n",
              "\n",
              "[5 rows x 157 columns]"
            ],
            "text/html": [
              "\n",
              "  <div id=\"df-ba3a09d2-f947-4288-abdd-cc3f30cc834d\">\n",
              "    <div class=\"colab-df-container\">\n",
              "      <div>\n",
              "<style scoped>\n",
              "    .dataframe tbody tr th:only-of-type {\n",
              "        vertical-align: middle;\n",
              "    }\n",
              "\n",
              "    .dataframe tbody tr th {\n",
              "        vertical-align: top;\n",
              "    }\n",
              "\n",
              "    .dataframe thead th {\n",
              "        text-align: right;\n",
              "    }\n",
              "</style>\n",
              "<table border=\"1\" class=\"dataframe\">\n",
              "  <thead>\n",
              "    <tr style=\"text-align: right;\">\n",
              "      <th></th>\n",
              "      <th>Datetimes</th>\n",
              "      <th>SC_AACGM_LAT</th>\n",
              "      <th>SC_AACGM_LTIME</th>\n",
              "      <th>ELE_TOTAL_ENERGY_FLUX</th>\n",
              "      <th>ELE_TOTAL_ENERGY_FLUX_STD</th>\n",
              "      <th>ELE_AVG_ENERGY</th>\n",
              "      <th>ELE_AVG_ENERGY_STD</th>\n",
              "      <th>ID_SC</th>\n",
              "      <th>sin_ut</th>\n",
              "      <th>cos_ut</th>\n",
              "      <th>...</th>\n",
              "      <th>SymH_5min</th>\n",
              "      <th>PC_5min</th>\n",
              "      <th>vsw_5min</th>\n",
              "      <th>vx_5min</th>\n",
              "      <th>psw_5min</th>\n",
              "      <th>borovsky_5min</th>\n",
              "      <th>newell_5min</th>\n",
              "      <th>Year</th>\n",
              "      <th>Month</th>\n",
              "      <th>Day</th>\n",
              "    </tr>\n",
              "  </thead>\n",
              "  <tbody>\n",
              "    <tr>\n",
              "      <th>0</th>\n",
              "      <td>1987-01-12 12:57:00</td>\n",
              "      <td>51.143220</td>\n",
              "      <td>5.664024</td>\n",
              "      <td>2.057827e+08</td>\n",
              "      <td>0.411230</td>\n",
              "      <td>39.89341</td>\n",
              "      <td>0.411485</td>\n",
              "      <td>6.0</td>\n",
              "      <td>-0.246153</td>\n",
              "      <td>-0.969231</td>\n",
              "      <td>...</td>\n",
              "      <td>3.0</td>\n",
              "      <td>0.77</td>\n",
              "      <td>356.0</td>\n",
              "      <td>-355.5</td>\n",
              "      <td>2.96</td>\n",
              "      <td>17439.640589</td>\n",
              "      <td>2489.686963</td>\n",
              "      <td>1987</td>\n",
              "      <td>1</td>\n",
              "      <td>12</td>\n",
              "    </tr>\n",
              "    <tr>\n",
              "      <th>1</th>\n",
              "      <td>1987-01-12 12:58:00</td>\n",
              "      <td>54.137207</td>\n",
              "      <td>5.535848</td>\n",
              "      <td>2.509837e+08</td>\n",
              "      <td>0.478268</td>\n",
              "      <td>40.82392</td>\n",
              "      <td>0.478568</td>\n",
              "      <td>6.0</td>\n",
              "      <td>-0.250380</td>\n",
              "      <td>-0.968148</td>\n",
              "      <td>...</td>\n",
              "      <td>3.0</td>\n",
              "      <td>0.77</td>\n",
              "      <td>356.0</td>\n",
              "      <td>-355.5</td>\n",
              "      <td>2.96</td>\n",
              "      <td>17439.640589</td>\n",
              "      <td>2489.686963</td>\n",
              "      <td>1987</td>\n",
              "      <td>1</td>\n",
              "      <td>12</td>\n",
              "    </tr>\n",
              "    <tr>\n",
              "      <th>2</th>\n",
              "      <td>1987-01-12 13:01:00</td>\n",
              "      <td>62.928176</td>\n",
              "      <td>5.031172</td>\n",
              "      <td>4.469146e+08</td>\n",
              "      <td>0.603362</td>\n",
              "      <td>143.77360</td>\n",
              "      <td>0.604023</td>\n",
              "      <td>6.0</td>\n",
              "      <td>-0.263031</td>\n",
              "      <td>-0.964787</td>\n",
              "      <td>...</td>\n",
              "      <td>3.0</td>\n",
              "      <td>0.77</td>\n",
              "      <td>354.7</td>\n",
              "      <td>-354.1</td>\n",
              "      <td>3.20</td>\n",
              "      <td>14199.368957</td>\n",
              "      <td>1847.748015</td>\n",
              "      <td>1987</td>\n",
              "      <td>1</td>\n",
              "      <td>12</td>\n",
              "    </tr>\n",
              "    <tr>\n",
              "      <th>3</th>\n",
              "      <td>1987-01-12 13:02:00</td>\n",
              "      <td>65.719631</td>\n",
              "      <td>4.794780</td>\n",
              "      <td>1.934849e+10</td>\n",
              "      <td>0.103648</td>\n",
              "      <td>820.36560</td>\n",
              "      <td>0.103671</td>\n",
              "      <td>6.0</td>\n",
              "      <td>-0.267238</td>\n",
              "      <td>-0.963630</td>\n",
              "      <td>...</td>\n",
              "      <td>3.0</td>\n",
              "      <td>0.77</td>\n",
              "      <td>354.7</td>\n",
              "      <td>-354.1</td>\n",
              "      <td>3.20</td>\n",
              "      <td>14199.368957</td>\n",
              "      <td>1847.748015</td>\n",
              "      <td>1987</td>\n",
              "      <td>1</td>\n",
              "      <td>12</td>\n",
              "    </tr>\n",
              "    <tr>\n",
              "      <th>4</th>\n",
              "      <td>1987-01-12 13:03:00</td>\n",
              "      <td>68.392364</td>\n",
              "      <td>4.507448</td>\n",
              "      <td>3.913337e+11</td>\n",
              "      <td>0.114959</td>\n",
              "      <td>5291.57100</td>\n",
              "      <td>0.114959</td>\n",
              "      <td>6.0</td>\n",
              "      <td>-0.271440</td>\n",
              "      <td>-0.962455</td>\n",
              "      <td>...</td>\n",
              "      <td>3.0</td>\n",
              "      <td>0.77</td>\n",
              "      <td>354.7</td>\n",
              "      <td>-354.1</td>\n",
              "      <td>3.20</td>\n",
              "      <td>14199.368957</td>\n",
              "      <td>1847.748015</td>\n",
              "      <td>1987</td>\n",
              "      <td>1</td>\n",
              "      <td>12</td>\n",
              "    </tr>\n",
              "  </tbody>\n",
              "</table>\n",
              "<p>5 rows × 157 columns</p>\n",
              "</div>\n",
              "      <button class=\"colab-df-convert\" onclick=\"convertToInteractive('df-ba3a09d2-f947-4288-abdd-cc3f30cc834d')\"\n",
              "              title=\"Convert this dataframe to an interactive table.\"\n",
              "              style=\"display:none;\">\n",
              "        \n",
              "  <svg xmlns=\"http://www.w3.org/2000/svg\" height=\"24px\"viewBox=\"0 0 24 24\"\n",
              "       width=\"24px\">\n",
              "    <path d=\"M0 0h24v24H0V0z\" fill=\"none\"/>\n",
              "    <path d=\"M18.56 5.44l.94 2.06.94-2.06 2.06-.94-2.06-.94-.94-2.06-.94 2.06-2.06.94zm-11 1L8.5 8.5l.94-2.06 2.06-.94-2.06-.94L8.5 2.5l-.94 2.06-2.06.94zm10 10l.94 2.06.94-2.06 2.06-.94-2.06-.94-.94-2.06-.94 2.06-2.06.94z\"/><path d=\"M17.41 7.96l-1.37-1.37c-.4-.4-.92-.59-1.43-.59-.52 0-1.04.2-1.43.59L10.3 9.45l-7.72 7.72c-.78.78-.78 2.05 0 2.83L4 21.41c.39.39.9.59 1.41.59.51 0 1.02-.2 1.41-.59l7.78-7.78 2.81-2.81c.8-.78.8-2.07 0-2.86zM5.41 20L4 18.59l7.72-7.72 1.47 1.35L5.41 20z\"/>\n",
              "  </svg>\n",
              "      </button>\n",
              "      \n",
              "  <style>\n",
              "    .colab-df-container {\n",
              "      display:flex;\n",
              "      flex-wrap:wrap;\n",
              "      gap: 12px;\n",
              "    }\n",
              "\n",
              "    .colab-df-convert {\n",
              "      background-color: #E8F0FE;\n",
              "      border: none;\n",
              "      border-radius: 50%;\n",
              "      cursor: pointer;\n",
              "      display: none;\n",
              "      fill: #1967D2;\n",
              "      height: 32px;\n",
              "      padding: 0 0 0 0;\n",
              "      width: 32px;\n",
              "    }\n",
              "\n",
              "    .colab-df-convert:hover {\n",
              "      background-color: #E2EBFA;\n",
              "      box-shadow: 0px 1px 2px rgba(60, 64, 67, 0.3), 0px 1px 3px 1px rgba(60, 64, 67, 0.15);\n",
              "      fill: #174EA6;\n",
              "    }\n",
              "\n",
              "    [theme=dark] .colab-df-convert {\n",
              "      background-color: #3B4455;\n",
              "      fill: #D2E3FC;\n",
              "    }\n",
              "\n",
              "    [theme=dark] .colab-df-convert:hover {\n",
              "      background-color: #434B5C;\n",
              "      box-shadow: 0px 1px 3px 1px rgba(0, 0, 0, 0.15);\n",
              "      filter: drop-shadow(0px 1px 2px rgba(0, 0, 0, 0.3));\n",
              "      fill: #FFFFFF;\n",
              "    }\n",
              "  </style>\n",
              "\n",
              "      <script>\n",
              "        const buttonEl =\n",
              "          document.querySelector('#df-ba3a09d2-f947-4288-abdd-cc3f30cc834d button.colab-df-convert');\n",
              "        buttonEl.style.display =\n",
              "          google.colab.kernel.accessAllowed ? 'block' : 'none';\n",
              "\n",
              "        async function convertToInteractive(key) {\n",
              "          const element = document.querySelector('#df-ba3a09d2-f947-4288-abdd-cc3f30cc834d');\n",
              "          const dataTable =\n",
              "            await google.colab.kernel.invokeFunction('convertToInteractive',\n",
              "                                                     [key], {});\n",
              "          if (!dataTable) return;\n",
              "\n",
              "          const docLinkHtml = 'Like what you see? Visit the ' +\n",
              "            '<a target=\"_blank\" href=https://colab.research.google.com/notebooks/data_table.ipynb>data table notebook</a>'\n",
              "            + ' to learn more about interactive tables.';\n",
              "          element.innerHTML = '';\n",
              "          dataTable['output_type'] = 'display_data';\n",
              "          await google.colab.output.renderOutput(dataTable, element);\n",
              "          const docLink = document.createElement('div');\n",
              "          docLink.innerHTML = docLinkHtml;\n",
              "          element.appendChild(docLink);\n",
              "        }\n",
              "      </script>\n",
              "    </div>\n",
              "  </div>\n",
              "  "
            ]
          },
          "metadata": {},
          "execution_count": 19
        }
      ]
    },
    {
      "cell_type": "code",
      "source": [
        "sns.lineplot(x='Year',y='ELE_TOTAL_ENERGY_FLUX',data=df)"
      ],
      "metadata": {
        "colab": {
          "base_uri": "https://localhost:8080/",
          "height": 307
        },
        "id": "eFu1hz8jaN52",
        "outputId": "297ed186-5dc2-4f55-b3fb-8cd766496659"
      },
      "execution_count": 22,
      "outputs": [
        {
          "output_type": "execute_result",
          "data": {
            "text/plain": [
              "<matplotlib.axes._subplots.AxesSubplot at 0x7f8af5db0e10>"
            ]
          },
          "metadata": {},
          "execution_count": 22
        },
        {
          "output_type": "display_data",
          "data": {
            "text/plain": [
              "<Figure size 432x288 with 1 Axes>"
            ],
            "image/png": "[encoded data removed]"
          },
          "metadata": {
            "needs_background": "light"
          }
        }
      ]
    },
    {
      "cell_type": "code",
      "source": [
        "sns.lineplot(x='Month',y='ELE_TOTAL_ENERGY_FLUX',data=df)"
      ],
      "metadata": {
        "colab": {
          "base_uri": "https://localhost:8080/",
          "height": 307
        },
        "id": "k71RDLyuag2c",
        "outputId": "8a76465b-732a-4d50-90ca-df1eb8a4e57e"
      },
      "execution_count": 23,
      "outputs": [
        {
          "output_type": "execute_result",
          "data": {
            "text/plain": [
              "<matplotlib.axes._subplots.AxesSubplot at 0x7f8af40f6f10>"
            ]
          },
          "metadata": {},
          "execution_count": 23
        },
        {
          "output_type": "display_data",
          "data": {
            "text/plain": [
              "<Figure size 432x288 with 1 Axes>"
            ],
            "image/png": "[encoded data removed]"
          },
          "metadata": {
            "needs_background": "light"
          }
        }
      ]
    },
    {
      "cell_type": "code",
      "source": [
        "new_df = df.drop('Datetimes',axis=1)"
      ],
      "metadata": {
        "id": "Y3dLMi0NcgpB"
      },
      "execution_count": 24,
      "outputs": []
    },
    {
      "cell_type": "code",
      "source": [
        "new_df.shape"
      ],
      "metadata": {
        "colab": {
          "base_uri": "https://localhost:8080/"
        },
        "id": "7NMJQ41thFs-",
        "outputId": "27f3eb0b-5723-472f-de19-480bfa898317"
      },
      "execution_count": 25,
      "outputs": [
        {
          "output_type": "execute_result",
          "data": {
            "text/plain": [
              "(1945887, 156)"
            ]
          },
          "metadata": {},
          "execution_count": 25
        }
      ]
    },
    {
      "cell_type": "markdown",
      "source": [
        "https://github.com/rmcgranaghan/precipNet/blob/master/Final__Data_Read_And_Prepare.ipynb"
      ],
      "metadata": {
        "id": "y_1_x0JKmc2p"
      }
    },
    {
      "cell_type": "code",
      "source": [
        "# Choose columns to drop\n",
        "cols_to_drop = [c for c in new_df.columns if ('1min' in c) | ('3min' in c) | ('4min' in c) | ('_5min'in c) | ('15min' in c)| ('5hr' in c) | ('F107_' in c) | ('vx' in c) | ('AE' in c) | ('newell' in c) | ('borovsky' in c) | ('STD' in c) | ('AVG' in c) | ('SC_AACGM_LTIME'==c)]\n",
        "new_df = new_df.drop(columns=cols_to_drop)"
      ],
      "metadata": {
        "id": "SWeMQfvOmapV"
      },
      "execution_count": 26,
      "outputs": []
    },
    {
      "cell_type": "code",
      "source": [
        "new_df.shape"
      ],
      "metadata": {
        "id": "5pE9NCI9q-AA",
        "outputId": "e35dfb4d-4308-42bc-9be4-0af56319c188",
        "colab": {
          "base_uri": "https://localhost:8080/"
        }
      },
      "execution_count": 27,
      "outputs": [
        {
          "output_type": "execute_result",
          "data": {
            "text/plain": [
              "(1945887, 76)"
            ]
          },
          "metadata": {},
          "execution_count": 27
        }
      ]
    },
    {
      "cell_type": "code",
      "source": [
        "print('number of input features total = {}'.format(new_df.shape[1]))"
      ],
      "metadata": {
        "id": "Wq-TeDW7sUMB",
        "outputId": "db5cb908-19f1-4d99-e45e-564ba35adf3a",
        "colab": {
          "base_uri": "https://localhost:8080/"
        }
      },
      "execution_count": 30,
      "outputs": [
        {
          "output_type": "stream",
          "name": "stdout",
          "text": [
            "number of input features total = 76\n"
          ]
        }
      ]
    },
    {
      "cell_type": "code",
      "source": [
        "# Define the threshold above which to remove energy flux values\n",
        "eflux_threshold_quantile = 99.995\n",
        "eflux_threshold = .99995\n",
        "\n",
        "# Define the conversion factor from eV to erg\n",
        "erg_eV_factor = (1.60218e-12)"
      ],
      "metadata": {
        "id": "kqcXgLu5q_BA"
      },
      "execution_count": 29,
      "outputs": []
    },
    {
      "cell_type": "markdown",
      "source": [
        "## Remove Outliers"
      ],
      "metadata": {
        "id": "Z5DJVASLs4so"
      }
    },
    {
      "cell_type": "code",
      "source": [
        ""
      ],
      "metadata": {
        "id": "0oD2cGsSs659"
      },
      "execution_count": null,
      "outputs": []
    }
  ]
}